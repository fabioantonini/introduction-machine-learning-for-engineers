{
 "cells": [
  {
   "cell_type": "markdown",
   "id": "38e3b864",
   "metadata": {},
   "source": [
    "# Optional Lab:  Brief Introduction to Python and Jupyter Notebooks\n",
    "Welcome to the first optional lab! \n",
    "Optional labs are available to:\n",
    "- provide information - like this notebook\n",
    "- reinforce lecture material with hands-on examples\n",
    "- provide working examples of routines used in the graded labs"
   ]
  },
  {
   "cell_type": "markdown",
   "id": "d7a1c906",
   "metadata": {},
   "source": [
    "## Goals\n",
    "In this lab, you will:\n",
    "- Get a brief introduction to Jupyter notebooks\n",
    "- Take a tour of Jupyter notebooks\n",
    "- Learn the difference between markdown cells and code cells\n",
    "- Practice some basic python\n"
   ]
  },
  {
   "cell_type": "markdown",
   "id": "d3d2f30b",
   "metadata": {},
   "source": [
    "The easiest way to become familiar with Jupyter notebooks is to take the tour available above in the Help menu:"
   ]
  },
  {
   "cell_type": "markdown",
   "id": "fc89cb01",
   "metadata": {},
   "source": [
    "<figure>\n",
    "    <center> <img src=\"./images/C1W1L1_Tour.PNG\"  alt='missing' width=\"400\"  ><center/>\n",
    "<figure/>"
   ]
  },
  {
   "cell_type": "markdown",
   "id": "5af35b1f",
   "metadata": {},
   "source": [
    "Jupyter notebooks have two types of cells that are used in this course. Cells such as this which contain documentation called `Markdown Cells`. The name is derived from the simple formatting language used in the cells. You will not be required to produce markdown cells. Its useful to understand the `cell pulldown` shown in graphic below. Occasionally, a cell will end up in the wrong mode and you may need to restore it to the right state:"
   ]
  },
  {
   "cell_type": "markdown",
   "id": "2810447d",
   "metadata": {},
   "source": [
    "<figure>\n",
    "   <img src=\"./images/C1W1L1_Markdown.PNG\"  alt='missing' width=\"400\"  >\n",
    "<figure/>"
   ]
  },
  {
   "cell_type": "markdown",
   "id": "a5a7f829",
   "metadata": {},
   "source": [
    "The other type of cell is the `code cell` where you will write your code:"
   ]
  },
  {
   "cell_type": "code",
   "execution_count": 1,
   "id": "756b5331",
   "metadata": {},
   "outputs": [
    {
     "name": "stdout",
     "output_type": "stream",
     "text": [
      "This is  code cell\n"
     ]
    }
   ],
   "source": [
    "#This is  a 'Code' Cell\n",
    "print(\"This is  code cell\")"
   ]
  },
  {
   "cell_type": "markdown",
   "id": "da54efa7",
   "metadata": {},
   "source": [
    "## Python\n",
    "You can write your code in the code cells. \n",
    "To run the code, select the cell and either\n",
    "- hold the shift-key down and hit 'enter' or 'return'\n",
    "- click the 'run' arrow above\n",
    "<figure>\n",
    "    <img src=\"./images/C1W1L1_Run.PNG\"  width=\"400\"  >\n",
    "<figure/>\n",
    "\n",
    " "
   ]
  },
  {
   "cell_type": "markdown",
   "id": "5a49b502",
   "metadata": {},
   "source": [
    "### Print statement\n",
    "Print statements will generally use the python f-string style.  \n",
    "Try creating your own print in the following cell.  \n",
    "Try both methods of running the cell."
   ]
  },
  {
   "cell_type": "code",
   "execution_count": 2,
   "id": "ae157c62",
   "metadata": {},
   "outputs": [
    {
     "name": "stdout",
     "output_type": "stream",
     "text": [
      "f strings allow you to embed variables right in the strings!\n"
     ]
    }
   ],
   "source": [
    "# print statements\n",
    "variable = \"right in the strings!\"\n",
    "print(f\"f strings allow you to embed variables {variable}\")"
   ]
  },
  {
   "cell_type": "markdown",
   "id": "8ded10f0-d602-4a3d-9a55-55dc254a283a",
   "metadata": {},
   "source": [
    "# Step-by-Step Example:\n",
    " Open your Jupyter Notebook: Start Jupyter Notebook by running jupyter notebook in your terminal or Anaconda Prompt.\n",
    "\n",
    "- Create a new notebook or open an existing one.\n",
    "- Write LaTeX in Markdown cells:\n",
    "- To write a formula, you need to create a Markdown cell.\n",
    "- You can toggle between code cells and Markdown cells by selecting the cell and pressing M for Markdown or Y for code."
   ]
  },
  {
   "cell_type": "markdown",
   "id": "1238d53d-9bf0-4d39-9832-495ea24ac781",
   "metadata": {},
   "source": [
    "## Examples: Inline Formula\n",
    "To write an inline formula, use single dollar signs:\n",
    "The formula for the area of a circle is $A = \\pi r^2$.\n",
    "\n",
    "To write a centered formula, use double dollar signs:\n",
    "$$\n",
    "E = mc^2\n",
    "$$"
   ]
  },
  {
   "cell_type": "markdown",
   "id": "d90919af-efc5-4cec-8cb1-8d3b1cb750fe",
   "metadata": {},
   "source": [
    "## Multiple Formulas\n",
    "You can write multiple formulas in a single Markdown cell:\n",
    "The quadratic formula is given by:\n",
    "The quadratic formula is given by:\n",
    "$$\n",
    "x = \\frac{-b \\pm \\sqrt{b^2 - 4ac}}{2a}\n",
    "$$\n",
    "\n",
    "The binomial theorem states:\n",
    "$$\n",
    "(a + b)^n = \\sum_{k=0}^{n} \\binom{n}{k} a^{n-k} b^k\n",
    "$$"
   ]
  },
  {
   "cell_type": "markdown",
   "id": "507d5f47-c59f-49a7-988e-4542fae3485b",
   "metadata": {},
   "source": [
    "## A simple matrix:\n",
    "$$\n",
    "\\begin{bmatrix}\n",
    "a & b \\\\\n",
    "c & d\n",
    "\\end{bmatrix}\n",
    "$$"
   ]
  },
  {
   "cell_type": "markdown",
   "id": "310af877-5c06-4722-bc9a-52ac89826afa",
   "metadata": {},
   "source": [
    "## Newton's Second Law of Motion\n",
    "\n",
    "Newton's second law can be expressed as a second-order differential equation:\n",
    "\n",
    "\n",
    "$$\n",
    "F = m \\frac{d^2x}{dt^2}\n",
    "$$\n",
    "\n",
    "\n",
    "For a damped harmonic oscillator, the equation is:\n",
    "\n",
    "\n",
    "$$\n",
    "m \\frac{d^2x}{dt^2} + c \\frac{dx}{dt} + kx = 0\n",
    "$$\n",
    "\n",
    "Where:\n",
    "- \\( F \\) is the force,\n",
    "- \\( m \\) is the mass,\n",
    "- \\( $\\frac{d^2x}{dt^2}$ \\) is the acceleration,\n",
    "- \\( c \\) is the damping coefficient,\n",
    "- \\( $\\frac{dx}{dt}$ \\) is the velocity,\n",
    "- \\( k \\) is the spring constant,\n",
    "- \\( x \\) is the displacement,\n",
    "- \\( t \\) is the time."
   ]
  },
  {
   "cell_type": "markdown",
   "id": "3aa523e8",
   "metadata": {},
   "source": [
    "# Congratulations!\n",
    "You now know how to find your way around a Jupyter Notebook."
   ]
  },
  {
   "cell_type": "code",
   "execution_count": null,
   "id": "c6854911",
   "metadata": {},
   "outputs": [],
   "source": []
  }
 ],
 "metadata": {
  "kernelspec": {
   "display_name": "Python 3 (ipykernel)",
   "language": "python",
   "name": "python3"
  },
  "language_info": {
   "codemirror_mode": {
    "name": "ipython",
    "version": 3
   },
   "file_extension": ".py",
   "mimetype": "text/x-python",
   "name": "python",
   "nbconvert_exporter": "python",
   "pygments_lexer": "ipython3",
   "version": "3.9.18"
  }
 },
 "nbformat": 4,
 "nbformat_minor": 5
}
