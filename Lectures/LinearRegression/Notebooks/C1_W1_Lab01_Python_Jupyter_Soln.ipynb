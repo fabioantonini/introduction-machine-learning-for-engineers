{
 "cells": [
  {
   "cell_type": "markdown",
   "id": "1f964f00",
   "metadata": {},
   "source": [
    "# Optional Lab:  Brief Introduction to Python and Jupyter Notebooks\n",
    "Welcome to the first optional lab! \n",
    "Optional labs are available to:\n",
    "- provide information - like this notebook\n",
    "- reinforce lecture material with hands-on examples\n",
    "- provide working examples of routines used in the graded labs"
   ]
  },
  {
   "cell_type": "markdown",
   "id": "c3c81718",
   "metadata": {},
   "source": [
    "## Goals\n",
    "In this lab, you will:\n",
    "- Get a brief introduction to Jupyter notebooks\n",
    "- Take a tour of Jupyter notebooks\n",
    "- Learn the difference between markdown cells and code cells\n",
    "- Practice some basic python\n"
   ]
  },
  {
   "cell_type": "markdown",
   "id": "55548911",
   "metadata": {},
   "source": [
    "The easiest way to become familiar with Jupyter notebooks is to take the tour available above in the Help menu:"
   ]
  },
  {
   "cell_type": "markdown",
   "id": "d58d9f95",
   "metadata": {},
   "source": [
    "<figure>\n",
    "    <center> <img src=\"./images/C1W1L1_Tour.PNG\"  alt='missing' width=\"400\"  ><center/>\n",
    "<figure/>"
   ]
  },
  {
   "cell_type": "markdown",
   "id": "883d4f22",
   "metadata": {},
   "source": [
    "Jupyter notebooks have two types of cells that are used in this course. Cells such as this which contain documentation called `Markdown Cells`. The name is derived from the simple formatting language used in the cells. You will not be required to produce markdown cells. Its useful to understand the `cell pulldown` shown in graphic below. Occasionally, a cell will end up in the wrong mode and you may need to restore it to the right state:"
   ]
  },
  {
   "cell_type": "markdown",
   "id": "70321dad",
   "metadata": {},
   "source": [
    "<figure>\n",
    "   <img src=\"./images/C1W1L1_Markdown.PNG\"  alt='missing' width=\"400\"  >\n",
    "<figure/>"
   ]
  },
  {
   "cell_type": "markdown",
   "id": "891f36fd",
   "metadata": {},
   "source": [
    "The other type of cell is the `code cell` where you will write your code:"
   ]
  },
  {
   "cell_type": "code",
   "execution_count": null,
   "id": "de61c492",
   "metadata": {},
   "outputs": [],
   "source": [
    "#This is  a 'Code' Cell\n",
    "print(\"This is  code cell\")"
   ]
  },
  {
   "cell_type": "markdown",
   "id": "373b29a1",
   "metadata": {},
   "source": [
    "## Python\n",
    "You can write your code in the code cells. \n",
    "To run the code, select the cell and either\n",
    "- hold the shift-key down and hit 'enter' or 'return'\n",
    "- click the 'run' arrow above\n",
    "<figure>\n",
    "    <img src=\"./images/C1W1L1_Run.PNG\"  width=\"400\"  >\n",
    "<figure/>\n",
    "\n",
    " "
   ]
  },
  {
   "cell_type": "markdown",
   "id": "b7390b3b",
   "metadata": {},
   "source": [
    "### Print statement\n",
    "Print statements will generally use the python f-string style.  \n",
    "Try creating your own print in the following cell.  \n",
    "Try both methods of running the cell."
   ]
  },
  {
   "cell_type": "code",
   "execution_count": null,
   "id": "69168ca1",
   "metadata": {},
   "outputs": [],
   "source": [
    "# print statements\n",
    "variable = \"right in the strings!\"\n",
    "print(f\"f strings allow you to embed variables {variable}\")"
   ]
  },
  {
   "cell_type": "markdown",
   "id": "13605bb9-11cd-4346-bd64-ad2340f897ed",
   "metadata": {},
   "source": [
    "# Linear Regression Example\n",
    "\n",
    "## Introduction\n",
    "\n",
    "In this notebook, we will illustrate some key concepts of linear regression, including:\n",
    "- Defining a cost function\n",
    "- Training a model\n",
    "- Visualizing the data and the model\n",
    "\n",
    "## Math Notations\n",
    "\n",
    "The linear regression model is defined as:\n",
    "\n",
    "$$ f_{w,b}(x) = wx + b $$\n",
    "\n",
    "The cost function to measure the performance of the model is:\n",
    "\n",
    "$$ J(w, b) = \\frac{1}{2m} \\sum_{i=1}^m (f_{w,b}(x^{(i)}) - y^{(i)})^2 $$\n",
    "\n",
    "Where:\n",
    "- $m$ is the number of training examples\n",
    "- $x^{(i)}$ is the input feature\n",
    "- $y^{(i)}$ is the output target\n",
    "\n",
    "## Implementation\n",
    "\n",
    "Let's start by importing the necessary libraries."
   ]
  },
  {
   "cell_type": "code",
   "execution_count": null,
   "id": "af133554-6f9d-4e58-a406-cd6c85546252",
   "metadata": {},
   "outputs": [],
   "source": [
    "import numpy as np\n",
    "import matplotlib.pyplot as plt\n",
    "\n",
    "# Generate some sample data\n",
    "np.random.seed(0)\n",
    "x = 2 * np.random.rand(100, 1)\n",
    "y = 4 + 3 * x + np.random.randn(100, 1)\n",
    "\n",
    "# Visualize the data\n",
    "plt.scatter(x, y)\n",
    "plt.xlabel('x')\n",
    "plt.ylabel('y')\n",
    "plt.title('Training Data')\n",
    "plt.show()"
   ]
  },
  {
   "cell_type": "markdown",
   "id": "72ded820-828c-4a81-8d5c-50ee963853a3",
   "metadata": {},
   "source": [
    "## Linear Regression Model\n",
    "\n",
    "We will use a simple linear regression model to fit the data. The model is defined as:\n",
    "\n",
    "$$ f_{w,b}(x) = wx + b $$\n",
    "\n",
    "We will use gradient descent to minimize the cost function $ J(w, b) $."
   ]
  },
  {
   "cell_type": "code",
   "execution_count": null,
   "id": "95ba952e-7983-4b70-867e-3363e572b3f1",
   "metadata": {},
   "outputs": [],
   "source": [
    "# Initialize parameters\n",
    "w = 0\n",
    "b = 0\n",
    "learning_rate = 0.01\n",
    "n_iterations = 1000\n",
    "m = len(x)\n",
    "\n",
    "# Cost function\n",
    "def compute_cost(x, y, w, b):\n",
    "    return (1/(2*m)) * np.sum((w*x + b - y)**2)\n",
    "\n",
    "# Gradient descent\n",
    "cost_history = []\n",
    "\n",
    "for i in range(n_iterations):\n",
    "    y_pred = w * x + b\n",
    "    cost = compute_cost(x, y, w, b)\n",
    "    cost_history.append(cost)\n",
    "    w_grad = (1/m) * np.sum((y_pred - y) * x)\n",
    "    b_grad = (1/m) * np.sum(y_pred - y)\n",
    "    w -= learning_rate * w_grad\n",
    "    b -= learning_rate * b_grad\n",
    "\n",
    "# Plot cost function history\n",
    "plt.plot(range(n_iterations), cost_history)\n",
    "plt.xlabel('Iterations')\n",
    "plt.ylabel('Cost')\n",
    "plt.title('Cost Function History')\n",
    "plt.show()"
   ]
  },
  {
   "cell_type": "markdown",
   "id": "28437b87-3491-42fa-9ed8-404344e02fdf",
   "metadata": {},
   "source": [
    "## Results\n",
    "\n",
    "The final parameters of the model are:\n",
    "\n",
    "- $w$: 3.039\n",
    "- $b$: 3.857\n",
    "\n",
    "The linear regression line can be plotted as follows:\n"
   ]
  },
  {
   "cell_type": "code",
   "execution_count": null,
   "id": "ae25d429-f372-403b-b085-231e539efd72",
   "metadata": {},
   "outputs": [],
   "source": [
    "# Plot the regression line\n",
    "plt.scatter(x, y)\n",
    "plt.plot(x, w * x + b, color='red')\n",
    "plt.xlabel('x')\n",
    "plt.ylabel('y')\n",
    "plt.title('Linear Regression Fit')\n",
    "plt.show()"
   ]
  },
  {
   "cell_type": "markdown",
   "id": "1068cf32-eb08-4a08-9652-7713fd8ce78b",
   "metadata": {},
   "source": [
    "## Conclusion\n",
    "\n",
    "In this notebook, we demonstrated how to implement a simple linear regression model using Python. We defined a cost function, trained the model using gradient descent, and visualized the results. The key concepts covered are:\n",
    "- Linear regression model: $ f_{w,b}(x) = wx + b $\n",
    "- Cost function: $ J(w, b) = \\frac{1}{2m} \\sum_{i=1}^m (f_{w,b}(x^{(i)}) - y^{(i)})^2 $\n",
    "- Gradient descent for optimization"
   ]
  },
  {
   "cell_type": "markdown",
   "id": "c3b993f9",
   "metadata": {},
   "source": [
    "# Congratulations!\n",
    "You now know how to find your way around a Jupyter Notebook."
   ]
  }
 ],
 "metadata": {
  "kernelspec": {
   "display_name": "Python 3 (ipykernel)",
   "language": "python",
   "name": "python3"
  },
  "language_info": {
   "codemirror_mode": {
    "name": "ipython",
    "version": 3
   },
   "file_extension": ".py",
   "mimetype": "text/x-python",
   "name": "python",
   "nbconvert_exporter": "python",
   "pygments_lexer": "ipython3",
   "version": "3.10.13"
  }
 },
 "nbformat": 4,
 "nbformat_minor": 5
}
