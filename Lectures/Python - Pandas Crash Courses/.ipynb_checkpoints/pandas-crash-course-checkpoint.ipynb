{
 "cells": [
  {
   "cell_type": "markdown",
   "id": "4e9791e4-0b47-4aa2-87a0-3a27b6636948",
   "metadata": {},
   "source": [
    "# Pandas Crash Course"
   ]
  },
  {
   "cell_type": "markdown",
   "id": "58ab3bde-0de7-4e83-ad5d-d6d798fc8adf",
   "metadata": {},
   "source": [
    "## Pandas Introduction"
   ]
  },
  {
   "cell_type": "markdown",
   "id": "6e3b2928",
   "metadata": {},
   "source": [
    "Pandas is a Python library useful for handling and analyzing data structures, particularly\n",
    "bidimensional tables and time series (i.e., data associated with time). It provides useful data structures\n",
    "(i.e., Series and DataFrames) to manage data effectively. The library provides tools for managing the data\n",
    "selection, transforming data with grouping and pivoting operations, managing missing data in the\n",
    "dataset, and performing statistics and charts on data. The library is based on Numpy arrays (efficient).\n",
    "It differs from Numpy because, for example, you can assign names to the columns of a 2-dimensional\n",
    "array. The two main objects provided by the Pandas library are Series and DataFrames."
   ]
  },
  {
   "cell_type": "markdown",
   "id": "ade1535a",
   "metadata": {},
   "source": [
    "## Pandas Series\n",
    "A Series is a 1-dimensional sequence of homogeneous elements (i.e., all with the same type) associated\n",
    "with an explicit index. Index elements can be either strings or integers. The main difference with respect\n",
    "to a 1-dimensional array is that each element is associated with an index. You can use the index to access\n",
    "the associated array element. The index can be numerical or textual (e.g., timestamp, date, etc.).\n"
   ]
  },
  {
   "attachments": {
    "image.png": {
     "image/png": "[encoded data removed]"
    }
   },
   "cell_type": "markdown",
   "id": "8405f046",
   "metadata": {},
   "source": [
    "![image.png](attachment:image.png)"
   ]
  },
  {
   "cell_type": "markdown",
   "id": "64abe044",
   "metadata": {},
   "source": [
    "### Pandas Series creation\n",
    "There are many ways to create a Series. You should specify the values and the index of the series. If the\n",
    "index is not specified, it is set automatically with a progressive number.\n",
    "#### Series from list\n",
    "You can create a Series directly from a Python list. If you do not specify the index, it will automatically\n",
    "create a progressive number starting from 0:"
   ]
  },
  {
   "cell_type": "code",
   "execution_count": 2,
   "id": "97a25a07",
   "metadata": {},
   "outputs": [
    {
     "name": "stdout",
     "output_type": "stream",
     "text": [
      "0    2.0\n",
      "1    3.1\n",
      "2    4.5\n",
      "dtype: float64\n"
     ]
    }
   ],
   "source": [
    "import pandas as pd\n",
    "s1 = pd . Series ([2.0 , 3.1 , 4.5]) # create a series without specifying the index\n",
    "print (s1)"
   ]
  },
  {
   "cell_type": "markdown",
   "id": "9a142dfd",
   "metadata": {},
   "source": [
    "If you want, you can specify the index by passing a list to the index parameter"
   ]
  },
  {
   "cell_type": "code",
   "execution_count": 3,
   "id": "306c0750",
   "metadata": {},
   "outputs": [
    {
     "name": "stdout",
     "output_type": "stream",
     "text": [
      "a    2.0\n",
      "b    3.1\n",
      "c    4.5\n",
      "dtype: float64\n"
     ]
    }
   ],
   "source": [
    "import pandas as pd\n",
    "s1 = pd . Series ([2.0 , 3.1 , 4.5] , index =['a','b','c']) # create a series with specific index\n",
    "print (s1)"
   ]
  },
  {
   "cell_type": "markdown",
   "id": "3fa7826c",
   "metadata": {},
   "source": [
    "#### Series from dictionary\n",
    "You can create a Series also from a Python dictionary. In this case, the keys of the dictionary define the\n",
    "index of the Series, while the values of the dictionary define the values of the Series. The order of the\n",
    "elements in the dictionary is preserved when creating the series (i.e., the first key of the dictionary is the\n",
    "first index in the Series)."
   ]
  },
  {
   "cell_type": "code",
   "execution_count": 4,
   "id": "6b775af4",
   "metadata": {},
   "outputs": [
    {
     "name": "stdout",
     "output_type": "stream",
     "text": [
      "a    2.0\n",
      "b    3.1\n",
      "c    4.5\n",
      "dtype: float64\n"
     ]
    }
   ],
   "source": [
    "import pandas as pd\n",
    "s1 = pd.Series ({'a': 2.0 , 'b': 3.1 , 'c': 4.5}) # create Series from dictionary\n",
    "print (s1)"
   ]
  },
  {
   "cell_type": "markdown",
   "id": "2c1b1bda",
   "metadata": {},
   "source": [
    "### Accessing Series elements\n",
    "You can access elements of a series by specifying the following:\n",
    "- Explicit index: using the explicit index specified while creating the series (with the Series.loc[]\n",
    "attribute).\n",
    "- Implicit index: using the position (i.e., the number) associated with the element order (similarly to\n",
    "Numpy arrays) (with the Series.iloc[] attribute).\n"
   ]
  },
  {
   "cell_type": "markdown",
   "id": "a95acb68",
   "metadata": {},
   "source": [
    "#### Accessing Series elements by index (explicit index)"
   ]
  },
  {
   "cell_type": "markdown",
   "id": "e4a94f2f",
   "metadata": {},
   "source": [
    "To access an element of the Series by specifying the explicit index, you can use the loc[] method of the\n",
    "series and specify the index inside the square brackets (s1.loc[index])."
   ]
  },
  {
   "cell_type": "code",
   "execution_count": 5,
   "id": "6f5f0533",
   "metadata": {},
   "outputs": [
    {
     "name": "stdout",
     "output_type": "stream",
     "text": [
      "3.1\n"
     ]
    }
   ],
   "source": [
    "import pandas as pd\n",
    "s1 = pd.Series([2.0 , 3.1 , 4.5] , index=[ 'a', 'b', 'c']) # create a series with specific index\n",
    "el = s1.loc['b'] # Access the element by index ( element associated to index 'b ')\n",
    "print(el)"
   ]
  },
  {
   "cell_type": "markdown",
   "id": "33748b9e",
   "metadata": {},
   "source": [
    "#### Accessing Series elements by position (implicit index)\n",
    "To access an element of the Series by specifying the position (implicit index), you can use the iloc[]\n",
    "method of the series and specify the position inside the square brackets (s1.iloc[position])"
   ]
  },
  {
   "cell_type": "code",
   "execution_count": 6,
   "id": "1cf52dd2",
   "metadata": {},
   "outputs": [
    {
     "name": "stdout",
     "output_type": "stream",
     "text": [
      "3.1\n"
     ]
    }
   ],
   "source": [
    "import pandas as pd\n",
    "s1 = pd.Series([2.0 , 3.1 , 4.5] , index =['a', 'b', 'c']) # create a series with specific index\n",
    "el = s1.iloc[1] # Access the element in position 1 ( second element )\n",
    "print(el)\n"
   ]
  },
  {
   "cell_type": "markdown",
   "id": "ff0337c9",
   "metadata": {},
   "source": [
    "#### Accessing all values and index\n",
    "You can obtain the values and the index of a Series with the .values and .index attributes of the Series\n",
    "object. Notice that the values are a Numpy array. Instead, the Index is a custom Python object defined\n",
    "in Pandas that allows you to perform more complex operations (e.g., union, intersection, etc. of series)."
   ]
  },
  {
   "cell_type": "code",
   "execution_count": 7,
   "id": "8ad8a54b",
   "metadata": {},
   "outputs": [
    {
     "name": "stdout",
     "output_type": "stream",
     "text": [
      "[2.  3.1 4.5]\n",
      "Index(['a', 'b', 'c'], dtype='object')\n"
     ]
    }
   ],
   "source": [
    "import pandas as pd\n",
    "s1 = pd.Series ([2.0 , 3.1 , 4.5] , index =[ 'a', 'b', 'c']) # create a series with specific index\n",
    "print ( s1.values ) # s1. values returns a Numpy array\n",
    "print ( s1.index ) # s1. index return a Index object\n"
   ]
  },
  {
   "cell_type": "markdown",
   "id": "73202dd0",
   "metadata": {},
   "source": [
    "#### Assign values to elements\n",
    "You can also use .loc[] and .iloc[] to assign values to elements and modify the Series inplace"
   ]
  },
  {
   "cell_type": "code",
   "execution_count": 8,
   "id": "4dfbfb64",
   "metadata": {},
   "outputs": [
    {
     "name": "stdout",
     "output_type": "stream",
     "text": [
      "2.0\n",
      "2.0\n",
      " Series :\n",
      "a     2.0\n",
      "b    10.0\n",
      "c     4.5\n",
      "dtype: float64\n"
     ]
    }
   ],
   "source": [
    "s1 = pd . Series ([2.0 , 3.1 , 4.5] , index =[ 'a', 'b', 'c'])\n",
    "print (s1.loc ['a']) # With explicit index\n",
    "print (s1.iloc [0]) # With implicit index\n",
    "s1.iloc[1] = 10 # Allows editing values ( assign a value )\n",
    "print (f\" Series :\\n{s1}\")"
   ]
  },
  {
   "cell_type": "markdown",
   "id": "f94f69c2",
   "metadata": {},
   "source": [
    "#### Slicing a Series\n",
    "You can also use .loc[] and .iloc[] to access a slice of the elements of the Series. With the implicit\n",
    "index (iloc), it works as Numpy arrays and lists. You have to specify the start position (included) and\n",
    "the end position (excluded). Instead with explicit index (loc), you should specify the starting and stop\n",
    "index, both included. After slicing, you get a new Series containing the sliced elements.\n",
    "Example with explicit index loc (both indices are included):\n"
   ]
  },
  {
   "cell_type": "code",
   "execution_count": 9,
   "id": "0d7b33f6",
   "metadata": {},
   "outputs": [
    {
     "name": "stdout",
     "output_type": "stream",
     "text": [
      "c    4.5\n",
      "d    1.1\n",
      "e    7.7\n",
      "dtype: float64\n"
     ]
    }
   ],
   "source": [
    "s1 = pd.Series ([2.0 , 3.1 , 4.5 , 1.1 , 7.7 , 2.4] , index =[ 'a', 'b', 'c', 'd', 'e', 'f'])\n",
    "print (s1.loc ['c':'e']) # Slicing with explicit index ( both included )"
   ]
  },
  {
   "cell_type": "markdown",
   "id": "f380c39c",
   "metadata": {},
   "source": [
    "Example with implicit index iloc (start position included and stop position excluded):"
   ]
  },
  {
   "cell_type": "code",
   "execution_count": 10,
   "id": "99182c4c",
   "metadata": {},
   "outputs": [
    {
     "name": "stdout",
     "output_type": "stream",
     "text": [
      "c    4.5\n",
      "d    1.1\n",
      "e    7.7\n",
      "dtype: float64\n"
     ]
    }
   ],
   "source": [
    "s1 = pd.Series([2.0 , 3.1 , 4.5 , 1.1 , 7.7 , 2.4] , index=[ 'a', 'b', 'c', 'd', 'e', 'f'])\n",
    "print (s1.iloc[2:5]) # Slicing with implicit index ( start included and stop excluded )"
   ]
  },
  {
   "cell_type": "markdown",
   "id": "0532a1a2",
   "metadata": {},
   "source": [
    "#### Masking a Series\n",
    "You can also access Series elements with masking. The masking will create a boolean Series with True\n",
    "if the condition is satisfied and False if not satisfied. When using masking, you can avoid using the loc\n",
    "function."
   ]
  },
  {
   "cell_type": "code",
   "execution_count": 11,
   "id": "7f35879e",
   "metadata": {},
   "outputs": [
    {
     "name": "stdout",
     "output_type": "stream",
     "text": [
      "a    False\n",
      "b     True\n",
      "c     True\n",
      "dtype: bool\n"
     ]
    }
   ],
   "source": [
    "s1 = pd.Series ([2.0 , 3.1 , 4.5] , index =[ 'a', 'b', 'c'])\n",
    "mask = (s1 >2) & (s1 <10) # the AND operator is &\n",
    "print (mask)"
   ]
  },
  {
   "cell_type": "markdown",
   "id": "3b62722c",
   "metadata": {},
   "source": [
    "As for Numpy, you can exploit the mask to access the Series elemnts and/or modifying if they satisfy\n",
    "a condition:\n",
    "This example shows how to access (read) Series elements with a mask:"
   ]
  },
  {
   "cell_type": "code",
   "execution_count": 12,
   "id": "2307b108",
   "metadata": {},
   "outputs": [
    {
     "name": "stdout",
     "output_type": "stream",
     "text": [
      "b    3.1\n",
      "c    4.5\n",
      "dtype: float64\n"
     ]
    }
   ],
   "source": [
    "s1 = pd . Series ([2.0 , 3.1 , 4.5] , index =[ 'a', 'b', 'c'])\n",
    "mask = (s1 >2) & (s1 <10) # the AND operator is &\n",
    "print (s1[ mask ]) # access elements of s1 where mask is True"
   ]
  },
  {
   "cell_type": "markdown",
   "id": "d316d35f",
   "metadata": {},
   "source": [
    "This example shows how to modify Series elements with a mask:"
   ]
  },
  {
   "cell_type": "code",
   "execution_count": 13,
   "id": "aadf8d3d",
   "metadata": {},
   "outputs": [
    {
     "name": "stdout",
     "output_type": "stream",
     "text": [
      "a    2.0\n",
      "b    0.0\n",
      "c    0.0\n",
      "dtype: float64\n"
     ]
    }
   ],
   "source": [
    "s1 = pd.Series ([2.0 , 3.1 , 4.5] , index =[ 'a', 'b', 'c'])\n",
    "mask = (s1 >2) & (s1 <10)\n",
    "s1 [mask] = 0 # modify elements of s1 where mask is True\n",
    "print (s1)"
   ]
  },
  {
   "cell_type": "markdown",
   "id": "6573267e",
   "metadata": {},
   "source": [
    "#### Accessing a Series with Fancy Indexing\n",
    "Fancy Indexing allows you to access a subset of a Series by specifying the list of indices (e.g., you want to\n",
    "access rows with indices ’a’ and ’b’). It is an access method also available for Numpy arrays (but we didn’t\n",
    "cover it). However, with Series and DataFrame (we will see it later), it is really useful. The syntax is simple:\n",
    "when you access the series, you have to put inside the square brackets a list of index values that you want\n",
    "to access (e.g., s1.loc[[’a’, ’b’]] or s1.iloc[[1, 3]]).\n",
    "This example shows how to access the elements of the Series with (explicit) index ’a’ and ’c’"
   ]
  },
  {
   "cell_type": "code",
   "execution_count": 14,
   "id": "9a700df6",
   "metadata": {},
   "outputs": [
    {
     "name": "stdout",
     "output_type": "stream",
     "text": [
      "a    2.0\n",
      "c    4.5\n",
      "dtype: float64\n"
     ]
    }
   ],
   "source": [
    "s1 = pd.Series ([2.0 , 3.1 , 4.5] , index =[ 'a', 'b', 'c'])\n",
    "print (s1.loc [[ 'a', 'c']]) # Access index 'a' and columns 'c'"
   ]
  },
  {
   "cell_type": "markdown",
   "id": "bcf4cf97",
   "metadata": {},
   "source": [
    "This example shows how to access with (implicit) index the first (position 0) and the third (position 2)\n",
    "elements of the Series:"
   ]
  },
  {
   "cell_type": "code",
   "execution_count": 15,
   "id": "bb0b1c9c",
   "metadata": {},
   "outputs": [
    {
     "name": "stdout",
     "output_type": "stream",
     "text": [
      "a    2.0\n",
      "c    4.5\n",
      "dtype: float64\n"
     ]
    }
   ],
   "source": [
    "s1 = pd . Series ([2.0 , 3.1 , 4.5] , index =[ 'a', 'b', 'c'])\n",
    "print ( s1.iloc [[0 , 2]])\n"
   ]
  },
  {
   "cell_type": "markdown",
   "id": "e0a2d4a9",
   "metadata": {},
   "source": [
    "Notice that you are not accessing from 0 to 2, but only row 0 and row 2."
   ]
  },
  {
   "cell_type": "markdown",
   "id": "d7bf6864",
   "metadata": {},
   "source": [
    "## Pandas DataFrame"
   ]
  },
  {
   "cell_type": "markdown",
   "id": "6e749eca",
   "metadata": {},
   "source": [
    "DataFrame represents a 2-dimensional array (i.e., a Table). It can be viewed as a table where columns\n",
    "are Series objects that share the same index. Each column has a name."
   ]
  },
  {
   "attachments": {
    "image.png": {
     "image/png": "[encoded data removed]"
    }
   },
   "cell_type": "markdown",
   "id": "fd6e0998",
   "metadata": {},
   "source": [
    "![image.png](attachment:image.png)"
   ]
  },
  {
   "cell_type": "markdown",
   "id": "aede1281",
   "metadata": {},
   "source": [
    "### Pandas DataFrame creation"
   ]
  },
  {
   "cell_type": "markdown",
   "id": "787208c4",
   "metadata": {},
   "source": [
    "#### DataFrame from Series"
   ]
  },
  {
   "cell_type": "markdown",
   "id": "1f9fad64",
   "metadata": {},
   "source": [
    "You can create a DataFrame starting from existing Series with the same Index for all of them. You should\n",
    "use the pd.DataFrame() constructor by passing as a parameter a dictionary with the column names as\n",
    "keys, and the Series as values:\n"
   ]
  },
  {
   "cell_type": "code",
   "execution_count": 16,
   "id": "3bd81bef",
   "metadata": {},
   "outputs": [
    {
     "name": "stdout",
     "output_type": "stream",
     "text": [
      "   Price   Quantity   Liters \n",
      "a     1.0          5      1.5\n",
      "b     1.4         10      0.3\n",
      "c     5.0          8      1.0\n"
     ]
    }
   ],
   "source": [
    "price = pd.Series ([1.0 , 1.4 , 5] , index =[ 'a', 'b', 'c'])\n",
    "quantity = pd.Series ([5 , 10 , 8] , index =[ 'a', 'b', 'c'])\n",
    "liters = pd.Series ([1.5 , 0.3 , 1] , index =[ 'a', 'b', 'c'])\n",
    "df = pd.DataFrame ({ 'Price ': price , 'Quantity ': quantity , 'Liters ': liters })\n",
    "print (df)"
   ]
  },
  {
   "cell_type": "markdown",
   "id": "4f5d2d42",
   "metadata": {},
   "source": [
    "If you have Series that don’t contain exactly the same Index, the values of the index that do not match\n",
    "will be inserted only for the Series that contain those values, and for the other Series (i.e., columns), will be\n",
    "inserted a Null value (i.e., NaN)."
   ]
  },
  {
   "cell_type": "code",
   "execution_count": 54,
   "id": "60e1e322",
   "metadata": {},
   "outputs": [
    {
     "name": "stdout",
     "output_type": "stream",
     "text": [
      "   Price   Quantity   Liters \n",
      "a     1.0        5.0      1.5\n",
      "b     1.4       10.0      0.3\n",
      "c     5.0        8.0      1.0\n",
      "d     2.0        NaN      NaN\n"
     ]
    }
   ],
   "source": [
    "price = pd.Series ([1.0 , 1.4 , 5, 2] , index =[ 'a', 'b', 'c', 'd']) # Added 'd' in the Index\n",
    "quantity = pd.Series ([5 , 10 , 8] , index =[ 'a', 'b', 'c'])\n",
    "liters = pd.Series ([1.5 , 0.3 , 1] , index =[ 'a', 'b', 'c'])\n",
    "df = pd.DataFrame ({ 'Price ': price , 'Quantity ': quantity , 'Liters ': liters })\n",
    "print (df)\n"
   ]
  },
  {
   "cell_type": "markdown",
   "id": "f8ad44f4",
   "metadata": {},
   "source": [
    "#### DataFrame from list of dictionaries"
   ]
  },
  {
   "cell_type": "markdown",
   "id": "1de05df4",
   "metadata": {},
   "source": [
    "You can create a DataFrame from a list of dictionaries. Each dictionary in the list represents a row\n",
    "in the DataFrame. The Index is automatically set to a progressive number (unless explicitly passed as\n",
    "a parameter, e.g., index=[’p1’, ’p2’, ’p3’])."
   ]
  },
  {
   "cell_type": "code",
   "execution_count": 19,
   "id": "e1fced5f",
   "metadata": {},
   "outputs": [
    {
     "name": "stdout",
     "output_type": "stream",
     "text": [
      "     a    b    c\n",
      "0  1.0  0.5  2.2\n",
      "1  1.1  0.7  1.8\n",
      "2  1.5  0.2  2.5\n"
     ]
    }
   ],
   "source": [
    "df = pd.DataFrame ([{ 'a':1 , 'b':0.5 , 'c': 2.2} ,\n",
    "{'a':1.1 , 'b':0.7 , 'c': 1.8} ,\n",
    "{'a':1.5 , 'b':0.2 , 'c': 2.5}])\n",
    "print(df)"
   ]
  },
  {
   "cell_type": "markdown",
   "id": "e24f0294",
   "metadata": {},
   "source": [
    "If you specify the Index parameter:\n"
   ]
  },
  {
   "cell_type": "code",
   "execution_count": 20,
   "id": "f9f6e874",
   "metadata": {},
   "outputs": [
    {
     "name": "stdout",
     "output_type": "stream",
     "text": [
      "       a    b    c\n",
      "p1   1.0  0.5  2.2\n",
      "p2   1.1  0.7  1.8\n",
      "p3   1.5  0.2  2.5\n"
     ]
    }
   ],
   "source": [
    "df = pd.DataFrame ([{'a':1 , 'b':0.5 , 'c': 2.2} ,\n",
    "{'a':1.1 , 'b':0.7 , 'c': 1.8} ,\n",
    "{'a':1.5 , 'b':0.2 , 'c': 2.5}] ,\n",
    "index =[ 'p1 ', 'p2 ', 'p3 '])\n",
    "print (df)"
   ]
  },
  {
   "cell_type": "markdown",
   "id": "b7c16014",
   "metadata": {},
   "source": [
    "####  DataFrame from a dictionary of key-list pairs"
   ]
  },
  {
   "cell_type": "markdown",
   "id": "c9322ddf",
   "metadata": {},
   "source": [
    "You can create a DataFrame from a dictionary of key-list pairs. In this case, each value of the dictionary\n",
    "is a list, and it is associated to a column. The column name is given by the corresponding key in the\n",
    "dictionary. The Index of the DataFrame is automatically set to a progressive number unless explicitly\n",
    "passed as a parameter, e.g., index=[’p1’, ’p2’, ’p3’])."
   ]
  },
  {
   "cell_type": "code",
   "execution_count": 21,
   "id": "0ec8a646",
   "metadata": {},
   "outputs": [
    {
     "name": "stdout",
     "output_type": "stream",
     "text": [
      "   c1  c2\n",
      "0   0   0\n",
      "1   1   2\n",
      "2   2   4\n"
     ]
    }
   ],
   "source": [
    "my_dict = { \"c1\": [0 , 1 , 2] , \"c2\": [0 , 2, 4] }\n",
    "df = pd.DataFrame (my_dict)\n",
    "print (df)\n"
   ]
  },
  {
   "cell_type": "markdown",
   "id": "82308cd2",
   "metadata": {},
   "source": [
    "#### DataFrame from a 2D Numpy array"
   ]
  },
  {
   "cell_type": "markdown",
   "id": "6b72757a",
   "metadata": {},
   "source": [
    "You can create a DataFrame from a 2-dimensional Numpy array by specifying the name of the columns\n",
    "and, optionally, the Index."
   ]
  },
  {
   "cell_type": "code",
   "execution_count": 23,
   "id": "780acd13",
   "metadata": {},
   "outputs": [
    {
     "name": "stdout",
     "output_type": "stream",
     "text": [
      "   c1   c2 \n",
      "a    0    1\n",
      "b    2    3\n",
      "c    4    5\n"
     ]
    }
   ],
   "source": [
    "import numpy as np\n",
    "arr = np.arange(6).reshape((3 ,2) )\n",
    "df = pd.DataFrame(arr, columns =[ 'c1 ', 'c2 '],\n",
    "index =[ 'a', 'b', 'c'])\n",
    "print(df)"
   ]
  },
  {
   "cell_type": "markdown",
   "id": "3dc98971",
   "metadata": {},
   "source": [
    "###  Accessing DataFrames"
   ]
  },
  {
   "cell_type": "markdown",
   "id": "7e7dee2c",
   "metadata": {},
   "source": [
    "#### Accessing column names and index\n"
   ]
  },
  {
   "cell_type": "markdown",
   "id": "910670fc",
   "metadata": {},
   "source": [
    "You can obtain all the column names and the index of a DataFrame with the .columns and .index\n",
    "attributes of the DataFrame object. In this case, both attributes return an Index object. The .columns\n",
    "attribute returns an Index object with the column names (i.e., index of the columns. you can access\n",
    "columns as with rows). Instead, the .index attribute returns the Index for the rows."
   ]
  },
  {
   "cell_type": "code",
   "execution_count": 66,
   "id": "3ca350bd",
   "metadata": {},
   "outputs": [
    {
     "name": "stdout",
     "output_type": "stream",
     "text": [
      "Index(['Price ', 'Quantity ', 'Liters '], dtype='object')\n",
      "Index(['a', 'b', 'c'], dtype='object')\n"
     ]
    }
   ],
   "source": [
    "price = pd.Series ([1.0 , 1.4 , 5] , index =[ 'a', 'b', 'c'])\n",
    "quantity = pd.Series ([5 , 10 , 8] , index =[ 'a', 'b', 'c'])\n",
    "liters = pd.Series ([1.5 , 0.3 , 1] , index =[ 'a', 'b', 'c'])\n",
    "df = pd.DataFrame ({ 'Price ': price , 'Quantity ': quantity , 'Liters ': liters })\n",
    "print(df.columns) # Index object with column names\n",
    "print(df.index) # Index object"
   ]
  },
  {
   "cell_type": "markdown",
   "id": "80707676",
   "metadata": {},
   "source": [
    "#### Accessing DataFrame data as Numpy array"
   ]
  },
  {
   "cell_type": "markdown",
   "id": "dc776f6b",
   "metadata": {},
   "source": [
    "You can get the DataFrame data into a Numpy array with the .values attribute.\n"
   ]
  },
  {
   "cell_type": "code",
   "execution_count": 67,
   "id": "c1f7a1d0",
   "metadata": {},
   "outputs": [
    {
     "data": {
      "text/plain": [
       "array([[ 1. ,  5. ,  1.5],\n",
       "       [ 1.4, 10. ,  0.3],\n",
       "       [ 5. ,  8. ,  1. ]])"
      ]
     },
     "execution_count": 67,
     "metadata": {},
     "output_type": "execute_result"
    }
   ],
   "source": [
    "price = pd.Series ([1.0 , 1.4 , 5] , index =[ 'a', 'b', 'c'])\n",
    "quantity = pd.Series ([5 , 10 , 8] , index =[ 'a', 'b', 'c'])\n",
    "liters = pd.Series ([1.5 , 0.3 , 1] , index =[ 'a', 'b', 'c'])\n",
    "df = pd.DataFrame ({ 'Price ': price , 'Quantity ': quantity , 'Liters ': liters })\n",
    "my_arr = df.values # Numpy array with data\n",
    "my_arr"
   ]
  },
  {
   "cell_type": "markdown",
   "id": "9076873b",
   "metadata": {},
   "source": [
    "####  Accessing DataFrame columns"
   ]
  },
  {
   "cell_type": "markdown",
   "id": "10aaadbe",
   "metadata": {},
   "source": [
    "You can access DataFrame a column by specifying in square brackets [] the column name. It returns\n",
    "a Series with the selected column."
   ]
  },
  {
   "cell_type": "code",
   "execution_count": 68,
   "id": "09499a06",
   "metadata": {},
   "outputs": [
    {
     "name": "stdout",
     "output_type": "stream",
     "text": [
      "a     5\n",
      "b    10\n",
      "c     8\n",
      "Name: Quantity, dtype: int64\n"
     ]
    }
   ],
   "source": [
    "price = pd.Series([1.0 , 1.4 , 5] , index = [ 'a', 'b', 'c'])\n",
    "quantity = pd.Series([5 , 10 , 8] , index = [ 'a', 'b', 'c'])\n",
    "liters = pd.Series([1.5 , 0.3 , 1] , index = [ 'a', 'b', 'c'])\n",
    "df = pd.DataFrame({ 'Price': price , 'Quantity': quantity , 'Liters': liters })\n",
    "print (df[\"Quantity\"]) # access by column name -> returns a Series"
   ]
  },
  {
   "cell_type": "markdown",
   "id": "ec1e4554",
   "metadata": {},
   "source": [
    "#### Accessing a single DataFrame row by index"
   ]
  },
  {
   "cell_type": "markdown",
   "id": "dc6179ca",
   "metadata": {},
   "source": [
    "You can access a single DataFrame row with the same methods as for Series: .loc for explicit indexing\n",
    "and .iloc for implicit indexing. It returns a Series with an element for each column. As Index, it\n",
    "contains the names of the columns."
   ]
  },
  {
   "cell_type": "code",
   "execution_count": 69,
   "id": "6c2e1a3d",
   "metadata": {},
   "outputs": [
    {
     "name": "stdout",
     "output_type": "stream",
     "text": [
      "Price       1.0\n",
      "Quantity    5.0\n",
      "Liters      1.5\n",
      "Name: a, dtype: float64\n",
      "Price       1.0\n",
      "Quantity    5.0\n",
      "Liters      1.5\n",
      "Name: a, dtype: float64\n"
     ]
    }
   ],
   "source": [
    "price = pd.Series([1.0 , 1.4 , 5] , index =[ 'a', 'b', 'c'])\n",
    "quantity = pd.Series([5 , 10 , 8] , index =[ 'a', 'b', 'c'])\n",
    "liters = pd.Series([1.5 , 0.3 , 1] , index =[ 'a', 'b', 'c'])\n",
    "df = pd.DataFrame({ 'Price ': price , 'Quantity': quantity , 'Liters': liters })\n",
    "print (df.loc['a'])\n",
    "print (df.iloc[0])\n"
   ]
  },
  {
   "cell_type": "markdown",
   "id": "66a4ef2a",
   "metadata": {},
   "source": [
    "####  Accessing DataFrames with slicing"
   ]
  },
  {
   "cell_type": "markdown",
   "id": "80da5d8f",
   "metadata": {},
   "source": [
    "You can access DataFrames with slicing by selecting rows and/or columns. Between square brackets [],\n",
    "you have to put the rows slice, then a comma ’,’, and then the columns slice. however you cannot mix\n",
    "implicit with explicit indexing."
   ]
  },
  {
   "cell_type": "code",
   "execution_count": 70,
   "id": "40c2e091",
   "metadata": {},
   "outputs": [
    {
     "name": "stdout",
     "output_type": "stream",
     "text": [
      "   Quantity  Liters\n",
      "b        10     0.3\n",
      "c         8     1.0\n"
     ]
    }
   ],
   "source": [
    "price = pd.Series([1.0 , 1.4 , 5] , index=[ 'a', 'b', 'c'])\n",
    "quantity = pd.Series([5 , 10 , 8] , index=[ 'a', 'b', 'c'])\n",
    "liters = pd.Series([1.5 , 0.3 , 1] , index=[ 'a', 'b', 'c'])\n",
    "df = pd.DataFrame({ 'Price': price , 'Quantity': quantity , 'Liters': liters})\n",
    "print (df.loc['b':'c', 'Quantity':'Liters']) # access columns from 'Quantity ' to 'Liters ' and rows from 'b' to 'c'"
   ]
  },
  {
   "cell_type": "markdown",
   "id": "24cd3f88",
   "metadata": {},
   "source": [
    "#### Accessing DataFrames with masking"
   ]
  },
  {
   "cell_type": "markdown",
   "id": "8c7e2fc9",
   "metadata": {},
   "source": [
    "You can also use masking to select rows based on a condition. You can also combine masking with\n",
    "slicing. You have to specify a mask to select the rows based on a condition and then slicing to select only\n",
    "some columns."
   ]
  },
  {
   "cell_type": "code",
   "execution_count": 71,
   "id": "a0217589",
   "metadata": {},
   "outputs": [
    {
     "name": "stdout",
     "output_type": "stream",
     "text": [
      "   Quantity  Liters\n",
      "a         5     1.5\n"
     ]
    }
   ],
   "source": [
    "price = pd.Series([1.0 , 1.4 , 5], index=[ 'a', 'b', 'c'])\n",
    "quantity = pd.Series([5 , 10 , 8], index=[ 'a', 'b', 'c'])\n",
    "liters = pd.Series([1.5 , 0.3 , 1], index=[ 'a', 'b', 'c'])\n",
    "df = pd.DataFrame({ 'Price': price, 'Quantity': quantity, 'Liters': liters})\n",
    "mask = (df['Quantity'] < 10) & ( df ['Liters'] > 1)\n",
    "print(df.loc[mask , 'Quantity':]) # Use masking and slicing\n"
   ]
  },
  {
   "attachments": {
    "image.png": {
     "image/png": "[encoded data removed]"
    }
   },
   "cell_type": "markdown",
   "id": "a95d07ae",
   "metadata": {},
   "source": [
    "![image.png](attachment:image.png)"
   ]
  },
  {
   "cell_type": "markdown",
   "id": "9572e15e",
   "metadata": {},
   "source": [
    "Or you can combine the mask with Fancy Indexing.\n"
   ]
  },
  {
   "cell_type": "code",
   "execution_count": 72,
   "id": "2e6dec8f",
   "metadata": {},
   "outputs": [
    {
     "name": "stdout",
     "output_type": "stream",
     "text": [
      "   Price  Quantity  Liters\n",
      "a    1.0         5     1.5\n",
      "b    1.4        10     0.3\n",
      "c    5.0         8     1.0\n",
      "mask\n",
      " a     True\n",
      "b    False\n",
      "c    False\n",
      "dtype: bool\n",
      "   Quantity  Liters\n",
      "a         5     1.5\n"
     ]
    }
   ],
   "source": [
    "price = pd.Series([1.0 , 1.4 , 5] , index=[ 'a', 'b', 'c'])\n",
    "quantity = pd.Series([5 , 10 , 8] , index=[ 'a', 'b', 'c'])\n",
    "liters = pd.Series([1.5 , 0.3 , 1] , index=[ 'a', 'b', 'c'])\n",
    "df = pd.DataFrame({ 'Price': price , 'Quantity': quantity, 'Liters': liters})\n",
    "print(df)\n",
    "mask = (df['Quantity'] < 10) & (df['Liters'] > 1)\n",
    "print(\"mask\\n\", mask)\n",
    "print(df.loc[mask, ['Quantity', 'Liters']]) # Use masking and fancy\n"
   ]
  },
  {
   "cell_type": "markdown",
   "id": "2b5e57fa",
   "metadata": {},
   "source": [
    "#### Accessing DataFrame with only fancy indexing"
   ]
  },
  {
   "cell_type": "markdown",
   "id": "4ecb5738",
   "metadata": {},
   "source": [
    "You can use Fancy Indexing to select only some rows and/or only some columns. You have to specify two\n",
    "lists with the list of Index values and the list of column names."
   ]
  },
  {
   "cell_type": "code",
   "execution_count": 98,
   "id": "5d6e17c4",
   "metadata": {},
   "outputs": [
    {
     "name": "stdout",
     "output_type": "stream",
     "text": [
      "   Price  Liters\n",
      "a    1.0     1.5\n",
      "c    5.0     1.0\n"
     ]
    }
   ],
   "source": [
    "price = pd.Series([1.0 , 1.4 , 5] , index=[ 'a', 'b', 'c'])\n",
    "quantity = pd.Series([5 , 10 , 8] , index=[ 'a', 'b', 'c'])\n",
    "liters = pd.Series([1.5 , 0.3 , 1] , index=[ 'a', 'b', 'c'])\n",
    "df = pd.DataFrame({ 'Price': price , 'Quantity': quantity , 'Liters': liters })\n",
    "mask = (df['Quantity'] < 10) & ( df['Liters'] > 1)\n",
    "print(df.loc[['a', 'c'], ['Price','Liters']]) # Use only fancy"
   ]
  },
  {
   "attachments": {
    "image.png": {
     "image/png": "[encoded data removed]"
    }
   },
   "cell_type": "markdown",
   "id": "4e92449b",
   "metadata": {},
   "source": [
    "![image.png](attachment:image.png)"
   ]
  },
  {
   "cell_type": "markdown",
   "id": "256c6d76",
   "metadata": {},
   "source": [
    "You can also use .loc to assign a value:"
   ]
  },
  {
   "cell_type": "code",
   "execution_count": 99,
   "id": "edbbf089",
   "metadata": {},
   "outputs": [
    {
     "data": {
      "text/html": [
       "<div>\n",
       "<style scoped>\n",
       "    .dataframe tbody tr th:only-of-type {\n",
       "        vertical-align: middle;\n",
       "    }\n",
       "\n",
       "    .dataframe tbody tr th {\n",
       "        vertical-align: top;\n",
       "    }\n",
       "\n",
       "    .dataframe thead th {\n",
       "        text-align: right;\n",
       "    }\n",
       "</style>\n",
       "<table border=\"1\" class=\"dataframe\">\n",
       "  <thead>\n",
       "    <tr style=\"text-align: right;\">\n",
       "      <th></th>\n",
       "      <th>Price</th>\n",
       "      <th>Quantity</th>\n",
       "      <th>Liters</th>\n",
       "    </tr>\n",
       "  </thead>\n",
       "  <tbody>\n",
       "    <tr>\n",
       "      <th>a</th>\n",
       "      <td>0.0</td>\n",
       "      <td>5</td>\n",
       "      <td>0.0</td>\n",
       "    </tr>\n",
       "    <tr>\n",
       "      <th>b</th>\n",
       "      <td>1.4</td>\n",
       "      <td>10</td>\n",
       "      <td>0.3</td>\n",
       "    </tr>\n",
       "    <tr>\n",
       "      <th>c</th>\n",
       "      <td>0.0</td>\n",
       "      <td>8</td>\n",
       "      <td>0.0</td>\n",
       "    </tr>\n",
       "  </tbody>\n",
       "</table>\n",
       "</div>"
      ],
      "text/plain": [
       "   Price  Quantity  Liters\n",
       "a    0.0         5     0.0\n",
       "b    1.4        10     0.3\n",
       "c    0.0         8     0.0"
      ]
     },
     "execution_count": 99,
     "metadata": {},
     "output_type": "execute_result"
    }
   ],
   "source": [
    "df.loc[['a', 'c'], ['Price', 'Liters']] = 0\n",
    "df"
   ]
  },
  {
   "cell_type": "markdown",
   "id": "8f38d48e",
   "metadata": {},
   "source": [
    "#### Adding a new column to DataFrame"
   ]
  },
  {
   "cell_type": "markdown",
   "id": "830f49b0",
   "metadata": {},
   "source": [
    "You can add a new column from a Series to a DataFrame. The added Series should have the same Index.\n",
    "The DataFrame is modified inplace. If the DataFrame already has a column with the specified name, then\n",
    "it is replaced."
   ]
  },
  {
   "cell_type": "code",
   "execution_count": 100,
   "id": "3861a22d",
   "metadata": {},
   "outputs": [
    {
     "data": {
      "text/html": [
       "<div>\n",
       "<style scoped>\n",
       "    .dataframe tbody tr th:only-of-type {\n",
       "        vertical-align: middle;\n",
       "    }\n",
       "\n",
       "    .dataframe tbody tr th {\n",
       "        vertical-align: top;\n",
       "    }\n",
       "\n",
       "    .dataframe thead th {\n",
       "        text-align: right;\n",
       "    }\n",
       "</style>\n",
       "<table border=\"1\" class=\"dataframe\">\n",
       "  <thead>\n",
       "    <tr style=\"text-align: right;\">\n",
       "      <th></th>\n",
       "      <th>Price</th>\n",
       "      <th>Quantity</th>\n",
       "      <th>Liters</th>\n",
       "      <th>Available</th>\n",
       "    </tr>\n",
       "  </thead>\n",
       "  <tbody>\n",
       "    <tr>\n",
       "      <th>a</th>\n",
       "      <td>0.0</td>\n",
       "      <td>5</td>\n",
       "      <td>0.0</td>\n",
       "      <td>True</td>\n",
       "    </tr>\n",
       "    <tr>\n",
       "      <th>b</th>\n",
       "      <td>1.4</td>\n",
       "      <td>10</td>\n",
       "      <td>0.3</td>\n",
       "      <td>False</td>\n",
       "    </tr>\n",
       "    <tr>\n",
       "      <th>c</th>\n",
       "      <td>0.0</td>\n",
       "      <td>8</td>\n",
       "      <td>0.0</td>\n",
       "      <td>True</td>\n",
       "    </tr>\n",
       "  </tbody>\n",
       "</table>\n",
       "</div>"
      ],
      "text/plain": [
       "   Price  Quantity  Liters  Available\n",
       "a    0.0         5     0.0       True\n",
       "b    1.4        10     0.3      False\n",
       "c    0.0         8     0.0       True"
      ]
     },
     "execution_count": 100,
     "metadata": {},
     "output_type": "execute_result"
    }
   ],
   "source": [
    "df['Available'] = pd.Series([True, False, True], ['a', 'b', 'c'])\n",
    "df"
   ]
  },
  {
   "cell_type": "markdown",
   "id": "8f5cd5a7",
   "metadata": {},
   "source": [
    "You can add a new column directly from a List to a DataFrame. The DataFrame is modified inplace.\n",
    "If the DataFrame already has a column with the specified name, then it is replaced. The order of the\n",
    "elements in the list will be preserved.\n"
   ]
  },
  {
   "cell_type": "code",
   "execution_count": 101,
   "id": "27e36545",
   "metadata": {},
   "outputs": [
    {
     "data": {
      "text/html": [
       "<div>\n",
       "<style scoped>\n",
       "    .dataframe tbody tr th:only-of-type {\n",
       "        vertical-align: middle;\n",
       "    }\n",
       "\n",
       "    .dataframe tbody tr th {\n",
       "        vertical-align: top;\n",
       "    }\n",
       "\n",
       "    .dataframe thead th {\n",
       "        text-align: right;\n",
       "    }\n",
       "</style>\n",
       "<table border=\"1\" class=\"dataframe\">\n",
       "  <thead>\n",
       "    <tr style=\"text-align: right;\">\n",
       "      <th></th>\n",
       "      <th>Price</th>\n",
       "      <th>Quantity</th>\n",
       "      <th>Liters</th>\n",
       "      <th>Available</th>\n",
       "    </tr>\n",
       "  </thead>\n",
       "  <tbody>\n",
       "    <tr>\n",
       "      <th>a</th>\n",
       "      <td>0.0</td>\n",
       "      <td>5</td>\n",
       "      <td>0.0</td>\n",
       "      <td>False</td>\n",
       "    </tr>\n",
       "    <tr>\n",
       "      <th>b</th>\n",
       "      <td>1.4</td>\n",
       "      <td>10</td>\n",
       "      <td>0.3</td>\n",
       "      <td>False</td>\n",
       "    </tr>\n",
       "    <tr>\n",
       "      <th>c</th>\n",
       "      <td>0.0</td>\n",
       "      <td>8</td>\n",
       "      <td>0.0</td>\n",
       "      <td>False</td>\n",
       "    </tr>\n",
       "  </tbody>\n",
       "</table>\n",
       "</div>"
      ],
      "text/plain": [
       "   Price  Quantity  Liters  Available\n",
       "a    0.0         5     0.0      False\n",
       "b    1.4        10     0.3      False\n",
       "c    0.0         8     0.0      False"
      ]
     },
     "execution_count": 101,
     "metadata": {},
     "output_type": "execute_result"
    }
   ],
   "source": [
    "df['Available'] = [False, False, False]\n",
    "df"
   ]
  },
  {
   "cell_type": "markdown",
   "id": "e560c2be",
   "metadata": {},
   "source": [
    "#### Drop columns from a DataFrame"
   ]
  },
  {
   "cell_type": "markdown",
   "id": "e58870f9",
   "metadata": {},
   "source": [
    "You can delete some columns from the DataFrame with the drop method and specify the list of columns to\n",
    "delete as a parameter. E.g., df.drop(columns=[’column 1’, ’column 2’]). The drop method returns a\n",
    "copy of the DataFrame (the DataFrame is not modified inplace). Therefore you have to assign the returned\n",
    "DataFrame to the old one if you want to modify it inplace. An alternative to obtain the same results is\n",
    "df.drop(columns=[’column 1’, ’column 2’], inplace=True). This last option modifies the DataFrame\n",
    "inplace."
   ]
  },
  {
   "cell_type": "code",
   "execution_count": 102,
   "id": "7d8ad5c4",
   "metadata": {},
   "outputs": [],
   "source": [
    "df = df.drop(columns=['Quantity', 'Liters'])"
   ]
  },
  {
   "cell_type": "code",
   "execution_count": 103,
   "id": "3c8b7ae4",
   "metadata": {},
   "outputs": [
    {
     "data": {
      "text/html": [
       "<div>\n",
       "<style scoped>\n",
       "    .dataframe tbody tr th:only-of-type {\n",
       "        vertical-align: middle;\n",
       "    }\n",
       "\n",
       "    .dataframe tbody tr th {\n",
       "        vertical-align: top;\n",
       "    }\n",
       "\n",
       "    .dataframe thead th {\n",
       "        text-align: right;\n",
       "    }\n",
       "</style>\n",
       "<table border=\"1\" class=\"dataframe\">\n",
       "  <thead>\n",
       "    <tr style=\"text-align: right;\">\n",
       "      <th></th>\n",
       "      <th>Price</th>\n",
       "      <th>Available</th>\n",
       "    </tr>\n",
       "  </thead>\n",
       "  <tbody>\n",
       "    <tr>\n",
       "      <th>a</th>\n",
       "      <td>0.0</td>\n",
       "      <td>False</td>\n",
       "    </tr>\n",
       "    <tr>\n",
       "      <th>b</th>\n",
       "      <td>1.4</td>\n",
       "      <td>False</td>\n",
       "    </tr>\n",
       "    <tr>\n",
       "      <th>c</th>\n",
       "      <td>0.0</td>\n",
       "      <td>False</td>\n",
       "    </tr>\n",
       "  </tbody>\n",
       "</table>\n",
       "</div>"
      ],
      "text/plain": [
       "   Price  Available\n",
       "a    0.0      False\n",
       "b    1.4      False\n",
       "c    0.0      False"
      ]
     },
     "execution_count": 103,
     "metadata": {},
     "output_type": "execute_result"
    }
   ],
   "source": [
    "df"
   ]
  },
  {
   "cell_type": "markdown",
   "id": "f16a79bc",
   "metadata": {},
   "source": [
    "#### Rename columns of a DataFrame"
   ]
  },
  {
   "cell_type": "markdown",
   "id": "d2265154",
   "metadata": {},
   "source": [
    "You can rename some columns of a DataFrame by passing a dictionary which maps old names with\n",
    "new names as a parameter of the df.rename() method. The old names of the DataFrame are specified\n",
    "in the keys of the dictionary, while the new names are in the values of the dictionary. Also, the rename\n",
    "method returns a copy of the DataFrame. Therefore, if you want to modify the DataFrame inplace, you\n",
    "should reassign the returned DataFrame to the old one or pass inplace=True as a parameter of the rename\n",
    "function."
   ]
  },
  {
   "cell_type": "code",
   "execution_count": 109,
   "id": "5b45f040",
   "metadata": {},
   "outputs": [
    {
     "data": {
      "text/html": [
       "<div>\n",
       "<style scoped>\n",
       "    .dataframe tbody tr th:only-of-type {\n",
       "        vertical-align: middle;\n",
       "    }\n",
       "\n",
       "    .dataframe tbody tr th {\n",
       "        vertical-align: top;\n",
       "    }\n",
       "\n",
       "    .dataframe thead th {\n",
       "        text-align: right;\n",
       "    }\n",
       "</style>\n",
       "<table border=\"1\" class=\"dataframe\">\n",
       "  <thead>\n",
       "    <tr style=\"text-align: right;\">\n",
       "      <th></th>\n",
       "      <th>Price</th>\n",
       "      <th>Quantity</th>\n",
       "      <th>Liters</th>\n",
       "    </tr>\n",
       "  </thead>\n",
       "  <tbody>\n",
       "    <tr>\n",
       "      <th>a</th>\n",
       "      <td>1.0</td>\n",
       "      <td>5</td>\n",
       "      <td>1.5</td>\n",
       "    </tr>\n",
       "    <tr>\n",
       "      <th>b</th>\n",
       "      <td>1.4</td>\n",
       "      <td>10</td>\n",
       "      <td>0.3</td>\n",
       "    </tr>\n",
       "    <tr>\n",
       "      <th>c</th>\n",
       "      <td>5.0</td>\n",
       "      <td>8</td>\n",
       "      <td>1.0</td>\n",
       "    </tr>\n",
       "  </tbody>\n",
       "</table>\n",
       "</div>"
      ],
      "text/plain": [
       "   Price  Quantity  Liters\n",
       "a    1.0         5     1.5\n",
       "b    1.4        10     0.3\n",
       "c    5.0         8     1.0"
      ]
     },
     "execution_count": 109,
     "metadata": {},
     "output_type": "execute_result"
    }
   ],
   "source": [
    "price = pd.Series([1.0 , 1.4 , 5] , index=[ 'a', 'b', 'c'])\n",
    "quantity = pd.Series([5 , 10 , 8] , index=[ 'a', 'b', 'c'])\n",
    "liters = pd.Series([1.5 , 0.3 , 1] , index=[ 'a', 'b', 'c'])\n",
    "df = pd.DataFrame({ 'Price': price , 'Quantity': quantity , 'Liters': liters })\n",
    "df"
   ]
  },
  {
   "cell_type": "code",
   "execution_count": 110,
   "id": "9611e054",
   "metadata": {},
   "outputs": [],
   "source": [
    "df = df.rename(columns={'Quantity': 'nitems', 'Liters': '[L]'})"
   ]
  },
  {
   "cell_type": "code",
   "execution_count": 111,
   "id": "5efe4eb5",
   "metadata": {},
   "outputs": [
    {
     "data": {
      "text/html": [
       "<div>\n",
       "<style scoped>\n",
       "    .dataframe tbody tr th:only-of-type {\n",
       "        vertical-align: middle;\n",
       "    }\n",
       "\n",
       "    .dataframe tbody tr th {\n",
       "        vertical-align: top;\n",
       "    }\n",
       "\n",
       "    .dataframe thead th {\n",
       "        text-align: right;\n",
       "    }\n",
       "</style>\n",
       "<table border=\"1\" class=\"dataframe\">\n",
       "  <thead>\n",
       "    <tr style=\"text-align: right;\">\n",
       "      <th></th>\n",
       "      <th>Price</th>\n",
       "      <th>nitems</th>\n",
       "      <th>[L]</th>\n",
       "    </tr>\n",
       "  </thead>\n",
       "  <tbody>\n",
       "    <tr>\n",
       "      <th>a</th>\n",
       "      <td>1.0</td>\n",
       "      <td>5</td>\n",
       "      <td>1.5</td>\n",
       "    </tr>\n",
       "    <tr>\n",
       "      <th>b</th>\n",
       "      <td>1.4</td>\n",
       "      <td>10</td>\n",
       "      <td>0.3</td>\n",
       "    </tr>\n",
       "    <tr>\n",
       "      <th>c</th>\n",
       "      <td>5.0</td>\n",
       "      <td>8</td>\n",
       "      <td>1.0</td>\n",
       "    </tr>\n",
       "  </tbody>\n",
       "</table>\n",
       "</div>"
      ],
      "text/plain": [
       "   Price  nitems  [L]\n",
       "a    1.0       5  1.5\n",
       "b    1.4      10  0.3\n",
       "c    5.0       8  1.0"
      ]
     },
     "execution_count": 111,
     "metadata": {},
     "output_type": "execute_result"
    }
   ],
   "source": [
    "df"
   ]
  },
  {
   "cell_type": "markdown",
   "id": "01945943",
   "metadata": {},
   "source": [
    "## Computation with Pandas"
   ]
  },
  {
   "cell_type": "markdown",
   "id": "34b0afa4",
   "metadata": {},
   "source": [
    "###  Unary operations on Series and DataFrames"
   ]
  },
  {
   "cell_type": "markdown",
   "id": "d8aa4b96",
   "metadata": {},
   "source": [
    "The unary operations on Series and DataFrames work with any Numpy unary function. The specified\n",
    "operation is applied to each element of the Series/DataFrame. Also, broadcasting works in the same way.\n",
    "You can sum/divide/multiply each element of a Series or a DataFrame by a scalar with the +, /, or *\n",
    "operators. Or you can compute the absolute value, the exponent, etc., of each element of a Series or a\n",
    "DataFrame with the corresponding Numpy functions np.abs(s1), np.abs(df), np.exp(s1), np.exp(df),\n",
    "etc."
   ]
  },
  {
   "cell_type": "markdown",
   "id": "3005dc69",
   "metadata": {},
   "source": [
    "### Operations between Series and DataFrames"
   ]
  },
  {
   "cell_type": "markdown",
   "id": "170f9f8f",
   "metadata": {},
   "source": [
    "You can apply operations between two series. The operation is applied element-wise after aligning in\u0002dices. The Index elements which do not match are set to NaN (i.e., not a number). After the alignment,\n",
    "the index in the result is sorted (only if they do not match)."
   ]
  },
  {
   "cell_type": "code",
   "execution_count": 113,
   "id": "76d3e29e",
   "metadata": {},
   "outputs": [
    {
     "name": "stdout",
     "output_type": "stream",
     "text": [
      "a    2.0\n",
      "b    6.0\n",
      "c    NaN\n",
      "d    NaN\n",
      "dtype: float64\n"
     ]
    }
   ],
   "source": [
    "import pandas as pd\n",
    "s1 = pd.Series([3 , 1, 10], index=[ 'b', 'a', 'c'])\n",
    "s2 = pd.Series([1 , 3, 30], index=[ 'a', 'b', 'd'])\n",
    "res = s1 + s2\n",
    "print (res)\n"
   ]
  },
  {
   "cell_type": "markdown",
   "id": "1530a2a3",
   "metadata": {},
   "source": [
    "For the Index values with no match in both series, it puts the NaN values. Moreover, in this case, the\n",
    "index and the columns are ordered (only if they do not match)."
   ]
  },
  {
   "attachments": {
    "image.png": {
     "image/png": "[encoded data removed]"
    }
   },
   "cell_type": "markdown",
   "id": "45f7465b",
   "metadata": {},
   "source": [
    "![image.png](attachment:image.png)"
   ]
  },
  {
   "cell_type": "markdown",
   "id": "de579011",
   "metadata": {},
   "source": [
    "To perform operations with two DataFrames, you not only have to align Index but also the columns.\n",
    "Therefore, the operation is applied element-wise after aligning indices and columns."
   ]
  },
  {
   "attachments": {
    "image.png": {
     "image/png": "[encoded data removed]"
    }
   },
   "cell_type": "markdown",
   "id": "d3c7e920",
   "metadata": {},
   "source": [
    "![image.png](attachment:image.png)"
   ]
  },
  {
   "cell_type": "markdown",
   "id": "7c50a449",
   "metadata": {},
   "source": [
    "If the columns are not aligned, it inserts NaN values in all the rows of the not aligned columns.\n"
   ]
  },
  {
   "attachments": {
    "image.png": {
     "image/png": "[encoded data removed]"
    }
   },
   "cell_type": "markdown",
   "id": "83e415c3",
   "metadata": {},
   "source": [
    "![image.png](attachment:image.png)"
   ]
  },
  {
   "cell_type": "markdown",
   "id": "00964912",
   "metadata": {},
   "source": [
    "You can also apply operations between DataFrames and Series. The operation is applied between the\n",
    "Series and each row of the DataFrame. The operation follows the broadcasting rules. You have to\n",
    "consider the Series as a row vector where each column became an index."
   ]
  },
  {
   "attachments": {
    "image.png": {
     "image/png": "[encoded data removed]"
    }
   },
   "cell_type": "markdown",
   "id": "b99fbfe1",
   "metadata": {},
   "source": [
    "![image.png](attachment:image.png)"
   ]
  },
  {
   "cell_type": "markdown",
   "id": "7fb76f37",
   "metadata": {},
   "source": [
    "### Aggregations"
   ]
  },
  {
   "cell_type": "markdown",
   "id": "216b4783",
   "metadata": {},
   "source": [
    "You can perform aggregate functions (for both Series and DataFrames) to compute the mean df.mean(),\n",
    "the standard deviation df.std(), the minimum value df.min(), the maximum value df.max(), and the\n",
    "sum df.sum().\n",
    "An aggregate function applied to a Series returns a single value with the mean/sum/etc. of the series\n",
    "elements."
   ]
  },
  {
   "cell_type": "code",
   "execution_count": 114,
   "id": "db80f88b",
   "metadata": {},
   "outputs": [
    {
     "name": "stdout",
     "output_type": "stream",
     "text": [
      "3.1999999999999997\n"
     ]
    }
   ],
   "source": [
    "import pandas as pd\n",
    "s1 = pd.Series([2.0 , 3.1 , 4.5]) # create a series without specifying the index\n",
    "print(s1.mean () )\n"
   ]
  },
  {
   "cell_type": "markdown",
   "id": "676be91c",
   "metadata": {},
   "source": [
    "Instead, for DataFrames, aggregate functions are applied column-wise and return a Series with the\n",
    "mean/sum/etc. of each column separately"
   ]
  },
  {
   "cell_type": "code",
   "execution_count": 115,
   "id": "2a066d3b",
   "metadata": {},
   "outputs": [
    {
     "name": "stdout",
     "output_type": "stream",
     "text": [
      "Price       2.466667\n",
      "Quantity    7.666667\n",
      "Liters      0.933333\n",
      "dtype: float64\n"
     ]
    }
   ],
   "source": [
    "import pandas as pd\n",
    "\n",
    "price = pd.Series([1.0 , 1.4 , 5] , index=['a', 'b', 'c'])\n",
    "quantity = pd.Series([5 , 10 , 8] , index=['a', 'b', 'c'])\n",
    "liters = pd.Series([1.5 , 0.3 , 1] , index=['a', 'b', 'c'])\n",
    "df = pd.DataFrame({ 'Price': price , 'Quantity': quantity , 'Liters': liters })\n",
    "print(df.mean())"
   ]
  },
  {
   "cell_type": "markdown",
   "id": "f5f7babe",
   "metadata": {},
   "source": [
    "If you want to perform the Z-Score normalization with pandas of each column separately, you can do\n",
    "the following:\n"
   ]
  },
  {
   "cell_type": "code",
   "execution_count": 116,
   "id": "b8a83a75",
   "metadata": {},
   "outputs": [
    {
     "name": "stdout",
     "output_type": "stream",
     "text": [
      "      Price  Quantity    Liters\n",
      "a -0.665750 -1.059626  0.940102\n",
      "b -0.484182  0.927173 -1.050702\n",
      "c  1.149932  0.132453  0.110600\n"
     ]
    }
   ],
   "source": [
    "import pandas as pd\n",
    "price = pd.Series ([1.0 , 1.4 , 5] , index=[ 'a', 'b', 'c'])\n",
    "quantity = pd.Series ([5 , 10 , 8] , index=[ 'a', 'b', 'c'])\n",
    "liters = pd . Series ([1.5 , 0.3 , 1] , index=[ 'a', 'b', 'c'])\n",
    "df = pd.DataFrame ({ 'Price': price , 'Quantity': quantity , 'Liters': liters })\n",
    "\n",
    "mean_series = df.mean ()\n",
    "std_series = df.std ()\n",
    "df_norm = (df - mean_series )/std_series\n",
    "print (df_norm)\n"
   ]
  },
  {
   "cell_type": "markdown",
   "id": "05b1cb69",
   "metadata": {},
   "source": [
    "##  Handling missing values"
   ]
  },
  {
   "cell_type": "markdown",
   "id": "6a475bf6",
   "metadata": {},
   "source": [
    "Missing values in Pandas are represented with sentinel values. They can be represented with the Python\n",
    "null value None or the Numpy not a number np.Nan. The difference is that None is a python object, instead\n",
    "np.Nan is a floating point number. Using NaN achieves better performances when performing numerical\n",
    "computations. Pandas supports both types and automatically converts between them when appropriate."
   ]
  },
  {
   "cell_type": "markdown",
   "id": "154a71b2",
   "metadata": {},
   "source": [
    "### Check if there are Null elements"
   ]
  },
  {
   "cell_type": "markdown",
   "id": "54055761",
   "metadata": {},
   "source": [
    "You can check if a Series or a DataFrame contain null values with the .isnull() method (e.g., s1.isnull()\n",
    "or df.isnull()). It returns a boolean mask indicating null values (i.e., a boolean mask with True if the\n",
    "element is Null, False otherwise). The opposite function is .notnull(), which returns a boolean mask\n",
    "indicating not Null values (i.e., True of the element is not Null, False otherwise)."
   ]
  },
  {
   "cell_type": "code",
   "execution_count": 117,
   "id": "0d52c257",
   "metadata": {},
   "outputs": [
    {
     "data": {
      "text/plain": [
       "0    False\n",
       "1     True\n",
       "2    False\n",
       "3     True\n",
       "dtype: bool"
      ]
     },
     "execution_count": 117,
     "metadata": {},
     "output_type": "execute_result"
    }
   ],
   "source": [
    "import pandas as pd\n",
    "import numpy as np\n",
    "\n",
    "s1 = pd.Series([4 , None , 5, np.nan])\n",
    "s1.isnull()"
   ]
  },
  {
   "cell_type": "markdown",
   "id": "6d7f371a",
   "metadata": {},
   "source": [
    "###  Remove Null elements"
   ]
  },
  {
   "cell_type": "markdown",
   "id": "83744663",
   "metadata": {},
   "source": [
    "You can also remove Null elements with the .dropna() method.\n"
   ]
  },
  {
   "cell_type": "code",
   "execution_count": 118,
   "id": "740abf9b",
   "metadata": {},
   "outputs": [
    {
     "data": {
      "text/plain": [
       "0    4.0\n",
       "2    5.0\n",
       "dtype: float64"
      ]
     },
     "execution_count": 118,
     "metadata": {},
     "output_type": "execute_result"
    }
   ],
   "source": [
    "import pandas as pd\n",
    "import numpy as np\n",
    "\n",
    "s1 = pd.Series([4 , None , 5, np.nan])\n",
    "s1.dropna()"
   ]
  },
  {
   "cell_type": "markdown",
   "id": "c4948647",
   "metadata": {},
   "source": [
    "When working with DataFrames, .dropna() removes rows that contain at least one missing value (as\n",
    "a default behavior). However, if you pass the parameter how=all, it removes rows only if they contain all\n",
    "Nan."
   ]
  },
  {
   "cell_type": "code",
   "execution_count": 120,
   "id": "44b31fd6",
   "metadata": {},
   "outputs": [
    {
     "data": {
      "text/html": [
       "<div>\n",
       "<style scoped>\n",
       "    .dataframe tbody tr th:only-of-type {\n",
       "        vertical-align: middle;\n",
       "    }\n",
       "\n",
       "    .dataframe tbody tr th {\n",
       "        vertical-align: top;\n",
       "    }\n",
       "\n",
       "    .dataframe thead th {\n",
       "        text-align: right;\n",
       "    }\n",
       "</style>\n",
       "<table border=\"1\" class=\"dataframe\">\n",
       "  <thead>\n",
       "    <tr style=\"text-align: right;\">\n",
       "      <th></th>\n",
       "      <th>Total</th>\n",
       "      <th>Quantity</th>\n",
       "    </tr>\n",
       "  </thead>\n",
       "  <tbody>\n",
       "    <tr>\n",
       "      <th>a</th>\n",
       "      <td>1</td>\n",
       "      <td>2.0</td>\n",
       "    </tr>\n",
       "    <tr>\n",
       "      <th>c</th>\n",
       "      <td>5</td>\n",
       "      <td>6.0</td>\n",
       "    </tr>\n",
       "  </tbody>\n",
       "</table>\n",
       "</div>"
      ],
      "text/plain": [
       "   Total  Quantity\n",
       "a      1       2.0\n",
       "c      5       6.0"
      ]
     },
     "execution_count": 120,
     "metadata": {},
     "output_type": "execute_result"
    }
   ],
   "source": [
    "import pandas as pd\n",
    "import numpy as np\n",
    "\n",
    "df = pd.DataFrame({ 'Total': [1, 3, 5] , 'Quantity': [2, np . nan , 6]} , index=[ 'a', 'b', 'c'])\n",
    "df . dropna ()\n"
   ]
  },
  {
   "attachments": {
    "image.png": {
     "image/png": "[encoded data removed]"
    }
   },
   "cell_type": "markdown",
   "id": "11eb74e8",
   "metadata": {},
   "source": [
    "![image.png](attachment:image.png)"
   ]
  },
  {
   "cell_type": "markdown",
   "id": "85bc817e",
   "metadata": {},
   "source": [
    "Removing columns by specifying axis=’columns’ is also possible. E.g., df.dropna(axis=’columns’).\n"
   ]
  },
  {
   "cell_type": "markdown",
   "id": "85e3a80d",
   "metadata": {},
   "source": [
    "### Fill missing values"
   ]
  },
  {
   "cell_type": "markdown",
   "id": "697518ac",
   "metadata": {},
   "source": [
    "You can fill Null values with a specified value with the .fillna() method. E.g., s1.fillna(0) or\n",
    "df.fillna(0)."
   ]
  },
  {
   "cell_type": "code",
   "execution_count": 121,
   "id": "bc2e4edf",
   "metadata": {},
   "outputs": [
    {
     "data": {
      "text/html": [
       "<div>\n",
       "<style scoped>\n",
       "    .dataframe tbody tr th:only-of-type {\n",
       "        vertical-align: middle;\n",
       "    }\n",
       "\n",
       "    .dataframe tbody tr th {\n",
       "        vertical-align: top;\n",
       "    }\n",
       "\n",
       "    .dataframe thead th {\n",
       "        text-align: right;\n",
       "    }\n",
       "</style>\n",
       "<table border=\"1\" class=\"dataframe\">\n",
       "  <thead>\n",
       "    <tr style=\"text-align: right;\">\n",
       "      <th></th>\n",
       "      <th>Total</th>\n",
       "      <th>Quantity</th>\n",
       "    </tr>\n",
       "  </thead>\n",
       "  <tbody>\n",
       "    <tr>\n",
       "      <th>a</th>\n",
       "      <td>1</td>\n",
       "      <td>2.0</td>\n",
       "    </tr>\n",
       "    <tr>\n",
       "      <th>b</th>\n",
       "      <td>3</td>\n",
       "      <td>0.0</td>\n",
       "    </tr>\n",
       "    <tr>\n",
       "      <th>c</th>\n",
       "      <td>5</td>\n",
       "      <td>6.0</td>\n",
       "    </tr>\n",
       "  </tbody>\n",
       "</table>\n",
       "</div>"
      ],
      "text/plain": [
       "   Total  Quantity\n",
       "a      1       2.0\n",
       "b      3       0.0\n",
       "c      5       6.0"
      ]
     },
     "execution_count": 121,
     "metadata": {},
     "output_type": "execute_result"
    }
   ],
   "source": [
    "import pandas as pd\n",
    "import numpy as np\n",
    "\n",
    "df = pd.DataFrame ({ 'Total': [1 , 3, 5] , 'Quantity': [2 , np.nan , 6]} , index =[ 'a', 'b', 'c'])\n",
    "df.fillna(0)"
   ]
  },
  {
   "cell_type": "markdown",
   "id": "9b9a1d8e",
   "metadata": {},
   "source": [
    "## Grouping data inside a DataFrame"
   ]
  },
  {
   "cell_type": "markdown",
   "id": "9e107acc",
   "metadata": {},
   "source": [
    "Pandas provides the equivalent of the SQL group by statement. It allows iterating on groups, aggregating\n",
    "the values of each group (e.g., mean, sum, min, max, etc.), and filtering groups according to a condition.\n",
    "The .groupby() method returns a DataFrameGroupBy object. You have to specify the column(s) where\n",
    "you want to group (key)."
   ]
  },
  {
   "attachments": {
    "image.png": {
     "image/png": "[encoded data removed]"
    }
   },
   "cell_type": "markdown",
   "id": "34859eb3",
   "metadata": {},
   "source": [
    "![image.png](attachment:image.png)"
   ]
  },
  {
   "cell_type": "markdown",
   "id": "b8b40bf5",
   "metadata": {},
   "source": [
    "After the creation of a DataFrameGroupBy object, you can iterate on groups:\n"
   ]
  },
  {
   "cell_type": "code",
   "execution_count": 122,
   "id": "beb9b94d",
   "metadata": {},
   "outputs": [
    {
     "name": "stdout",
     "output_type": "stream",
     "text": [
      "a\n",
      "   k  c1  c2\n",
      "0  a   2   4\n",
      "2  a   3   5\n",
      "b\n",
      "   k  c1  c2\n",
      "1  b  10  20\n",
      "3  b  15  30\n"
     ]
    }
   ],
   "source": [
    "import pandas as pd\n",
    "import numpy as np\n",
    "\n",
    "df = pd.DataFrame ({ 'k' : ['a', 'b', 'a', 'b'], 'c1': [2 ,10 ,3 ,15] , 'c2' : [4 , 20 , 5 ,30]})\n",
    "grouped_df = df.groupby('k') # 2 groups : 'a' and 'b'\n",
    "\n",
    "for key , group_df in grouped_df :\n",
    "    print ( key )\n",
    "    print ( group_df )\n"
   ]
  },
  {
   "cell_type": "markdown",
   "id": "b0ee328f",
   "metadata": {},
   "source": [
    "Or you can aggregate by groups (e.g., with min, max, sum, mean, std).\n"
   ]
  },
  {
   "cell_type": "code",
   "execution_count": 123,
   "id": "f76fe644",
   "metadata": {},
   "outputs": [
    {
     "data": {
      "text/html": [
       "<div>\n",
       "<style scoped>\n",
       "    .dataframe tbody tr th:only-of-type {\n",
       "        vertical-align: middle;\n",
       "    }\n",
       "\n",
       "    .dataframe tbody tr th {\n",
       "        vertical-align: top;\n",
       "    }\n",
       "\n",
       "    .dataframe thead th {\n",
       "        text-align: right;\n",
       "    }\n",
       "</style>\n",
       "<table border=\"1\" class=\"dataframe\">\n",
       "  <thead>\n",
       "    <tr style=\"text-align: right;\">\n",
       "      <th></th>\n",
       "      <th>k</th>\n",
       "      <th>c1</th>\n",
       "      <th>c2</th>\n",
       "    </tr>\n",
       "  </thead>\n",
       "  <tbody>\n",
       "    <tr>\n",
       "      <th>0</th>\n",
       "      <td>a</td>\n",
       "      <td>2.5</td>\n",
       "      <td>4.5</td>\n",
       "    </tr>\n",
       "    <tr>\n",
       "      <th>1</th>\n",
       "      <td>b</td>\n",
       "      <td>12.5</td>\n",
       "      <td>25.0</td>\n",
       "    </tr>\n",
       "  </tbody>\n",
       "</table>\n",
       "</div>"
      ],
      "text/plain": [
       "   k    c1    c2\n",
       "0  a   2.5   4.5\n",
       "1  b  12.5  25.0"
      ]
     },
     "execution_count": 123,
     "metadata": {},
     "output_type": "execute_result"
    }
   ],
   "source": [
    "import pandas as pd\n",
    "import numpy as np\n",
    "\n",
    "df = pd.DataFrame({ 'k' : ['a', 'b', 'a', 'b'], 'c1': [2 ,10 ,3 ,15] , 'c2' : [4 ,20 ,5 ,30]})\n",
    "grouped_df = df.groupby('k') # 2 groups : 'a' and 'b'\n",
    "grouped_df.mean() . reset_index () # Mean , separately for each group"
   ]
  },
  {
   "cell_type": "markdown",
   "id": "7d2581de",
   "metadata": {},
   "source": [
    "Notice that you should also use the .reset index() to return a single-level DataFrame. Otherwise, it\n",
    "will return a multi-level DataFrame on the columns.\n",
    "You can also aggregate a single column by group. The output is a Series with the result of the\n",
    "aggregation of each group.\n"
   ]
  },
  {
   "cell_type": "code",
   "execution_count": 125,
   "id": "0bb4daf9",
   "metadata": {},
   "outputs": [
    {
     "data": {
      "text/html": [
       "<div>\n",
       "<style scoped>\n",
       "    .dataframe tbody tr th:only-of-type {\n",
       "        vertical-align: middle;\n",
       "    }\n",
       "\n",
       "    .dataframe tbody tr th {\n",
       "        vertical-align: top;\n",
       "    }\n",
       "\n",
       "    .dataframe thead th {\n",
       "        text-align: right;\n",
       "    }\n",
       "</style>\n",
       "<table border=\"1\" class=\"dataframe\">\n",
       "  <thead>\n",
       "    <tr style=\"text-align: right;\">\n",
       "      <th></th>\n",
       "      <th>k</th>\n",
       "      <th>c1</th>\n",
       "    </tr>\n",
       "  </thead>\n",
       "  <tbody>\n",
       "    <tr>\n",
       "      <th>0</th>\n",
       "      <td>a</td>\n",
       "      <td>2.5</td>\n",
       "    </tr>\n",
       "    <tr>\n",
       "      <th>1</th>\n",
       "      <td>b</td>\n",
       "      <td>12.5</td>\n",
       "    </tr>\n",
       "  </tbody>\n",
       "</table>\n",
       "</div>"
      ],
      "text/plain": [
       "   k    c1\n",
       "0  a   2.5\n",
       "1  b  12.5"
      ]
     },
     "execution_count": 125,
     "metadata": {},
     "output_type": "execute_result"
    }
   ],
   "source": [
    "import pandas as pd\n",
    "import numpy as np\n",
    "\n",
    "df = pd.DataFrame({ 'k' : ['a', 'b', 'a', 'b'], 'c1': [2 ,10 ,3 ,15] , 'c2' : [4 ,20 ,5 ,30]})\n",
    "grouped_df = df.groupby('k') # 2 groups : 'a' and 'b'\n",
    "\n",
    "grouped_df['c1'].mean() . reset_index() # Mean for only the 'c1 ' column for each group"
   ]
  },
  {
   "cell_type": "markdown",
   "id": "fbeb6928",
   "metadata": {},
   "source": [
    "## Load from a CSV"
   ]
  },
  {
   "cell_type": "markdown",
   "id": "14c8e48e",
   "metadata": {},
   "source": [
    "You can load a DataFrame from a csv file. You could specify the delimiter (sep). The function automat\u0002ically reads the header from the first line of the file after skipping the specified number of rows (e.g.,\n",
    "skiprows=1). The column data types are inferred."
   ]
  },
  {
   "attachments": {
    "image.png": {
     "image/png": "[encoded data removed]"
    }
   },
   "cell_type": "markdown",
   "id": "7de2a56a",
   "metadata": {},
   "source": [
    "![image.png](attachment:image.png)"
   ]
  },
  {
   "cell_type": "markdown",
   "id": "ca4d6b9a",
   "metadata": {},
   "source": [
    "If it contains null values, you can specify how to recognize them. By default, empty columns are converted\n",
    "to NaN (i.e., not a number Numpy datatype). The string ’NaN’ is automatically recognized as a null value."
   ]
  },
  {
   "attachments": {
    "image.png": {
     "image/png": "[encoded data removed]"
    }
   },
   "cell_type": "markdown",
   "id": "087d5e56",
   "metadata": {},
   "source": [
    "![image.png](attachment:image.png)"
   ]
  },
  {
   "cell_type": "markdown",
   "id": "5b7efc0c",
   "metadata": {},
   "source": [
    "You can also save an existing DataFrame to a CSV file. If you specify index=False as a parameter, it\n",
    "avoids writing the index.\n"
   ]
  },
  {
   "attachments": {
    "image.png": {
     "image/png": "[encoded data removed]"
    }
   },
   "cell_type": "markdown",
   "id": "bfa6ecbd",
   "metadata": {},
   "source": [
    "![image.png](attachment:image.png)"
   ]
  },
  {
   "cell_type": "markdown",
   "id": "a80a177c",
   "metadata": {},
   "source": []
  }
 ],
 "metadata": {
  "kernelspec": {
   "display_name": "Python 3 (ipykernel)",
   "language": "python",
   "name": "python3"
  },
  "language_info": {
   "codemirror_mode": {
    "name": "ipython",
    "version": 3
   },
   "file_extension": ".py",
   "mimetype": "text/x-python",
   "name": "python",
   "nbconvert_exporter": "python",
   "pygments_lexer": "ipython3",
   "version": "3.10.13"
  }
 },
 "nbformat": 4,
 "nbformat_minor": 5
}
