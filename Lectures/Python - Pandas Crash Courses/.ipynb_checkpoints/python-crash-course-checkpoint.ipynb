{
 "cells": [
  {
   "cell_type": "markdown",
   "id": "7c68bf40-a189-4b05-a79c-d80c077583de",
   "metadata": {},
   "source": [
    "# Python Crash Course"
   ]
  },
  {
   "cell_type": "markdown",
   "id": "c9b55fd8-8f75-4be5-8283-a47cd8eb5baf",
   "metadata": {},
   "source": [
    "## Why Python?\n",
    "There are several reasons why Python has become the most popular programming language, especially in the\n",
    "scientific research community. First of all, the simplicity of its syntax allows developers to write compact\n",
    "programs with fewer lines of code than the other programming languages. Python’s syntax is similar to that\n",
    "of the English language, thus enabling it to write clean code that is easy to read, understand and debug. For\n",
    "instance, Python relies on indentation and whitespace to define the scope of loops, functions, and classes.\n",
    "Other programming languages often use curly brackets for this purpose.\n",
    "Finally, there is an incredible Python community. Plenty of useful guides, documentation, and libraries\n",
    "exist for solving various problems and not always implementing everything from scratch."
   ]
  },
  {
   "cell_type": "markdown",
   "id": "bef9499e-f96b-43fc-b864-b0f91fe52bb4",
   "metadata": {},
   "source": [
    "## Python Key Features"
   ]
  },
  {
   "cell_type": "markdown",
   "id": "3b39ef42",
   "metadata": {},
   "source": [
    "Python is an interpreted language. This means that code can be executed as soon as it is written. In\n",
    "contrast, many other programming languages are compiled and require an initial compilation phase that\n",
    "produces an executable that can then be executed (e.g., Java and C).\n",
    "Python can be treated in a procedural way. You can code either in a object-oriented or a functional\n",
    "way. You can learn more about the differences between object-oriented and functional programming here."
   ]
  },
  {
   "cell_type": "markdown",
   "id": "76a34ece",
   "metadata": {},
   "source": [
    "# Variables and simple Data Types"
   ]
  },
  {
   "cell_type": "markdown",
   "id": "fd9b63ea",
   "metadata": {},
   "source": [
    "Variables naming\n",
    "You should be aware of some rules and guidelines when naming variables to make code easier to read and\n",
    "understand and avoid errors.\n",
    "- Variable names can only contain letters, numbers, and underscores. A variable name can start with a\n",
    "letter or an underscore but not a number.\n",
    "- Variable names cannot contain whitespaces. To separate words in variables, you can use underscores.\n",
    "- Avoid using Python keywords for function and variable names (i.e., print, max, etc.)\n",
    "- Use descriptive but compact variable names"
   ]
  },
  {
   "cell_type": "markdown",
   "id": "5ccc2daa",
   "metadata": {},
   "source": [
    "# Introduction to Python\n",
    "\n",
    "## 1. Getting Started with Python\n",
    "\n",
    "### 1.1. Hello World\n"
   ]
  },
  {
   "cell_type": "code",
   "execution_count": 1,
   "id": "bae968e1",
   "metadata": {},
   "outputs": [
    {
     "name": "stdout",
     "output_type": "stream",
     "text": [
      "Hello, world!\n"
     ]
    }
   ],
   "source": [
    "print(\"Hello, world!\")"
   ]
  },
  {
   "cell_type": "markdown",
   "id": "b15df861",
   "metadata": {},
   "source": [
    "## Variables and Data Types"
   ]
  },
  {
   "cell_type": "code",
   "execution_count": 2,
   "id": "a46451e7",
   "metadata": {},
   "outputs": [
    {
     "name": "stdout",
     "output_type": "stream",
     "text": [
      "Alice <class 'str'>\n",
      "25 <class 'int'>\n",
      "5.9 <class 'float'>\n",
      "True <class 'bool'>\n"
     ]
    }
   ],
   "source": [
    "# String\n",
    "name = \"Alice\"\n",
    "print(name, type(name))\n",
    "\n",
    "# Integer\n",
    "age = 25\n",
    "print(age, type(age))\n",
    "\n",
    "# Float\n",
    "height = 5.9\n",
    "print(height, type(height))\n",
    "\n",
    "# Boolean\n",
    "is_student = True\n",
    "print(is_student, type(is_student))\n"
   ]
  },
  {
   "cell_type": "markdown",
   "id": "f85d4b66",
   "metadata": {},
   "source": [
    "## Numbers\n",
    "### Integers\n",
    "An integer is a number without decimal digits. You can add (+), subtract (-), multiply (*), divide (/), and\n",
    "exponentiate (**) integers in Python."
   ]
  },
  {
   "cell_type": "code",
   "execution_count": 9,
   "id": "c6cc2d75",
   "metadata": {},
   "outputs": [
    {
     "name": "stdout",
     "output_type": "stream",
     "text": [
      "9\n",
      "3\n",
      "18\n",
      "2.0\n",
      "8\n",
      "10\n",
      "8\n"
     ]
    }
   ],
   "source": [
    "print (6 + 3)\n",
    "print (6 - 3)\n",
    "print (6 * 3)\n",
    "print (6 / 3)\n",
    "print (2 ** 3)\n",
    "print ((2 + 3) * 2)\n",
    "print (2 + 3 * 2)"
   ]
  },
  {
   "cell_type": "markdown",
   "id": "b95fdd32",
   "metadata": {},
   "source": [
    "### Floats\n",
    "A float is a number with decimal digits. You can add (+), subtract (-), multiply (*), divide (/), and\n",
    "exponentiate (**) floats in Python with the same operands as for integers."
   ]
  },
  {
   "cell_type": "code",
   "execution_count": 11,
   "id": "72a91d9f",
   "metadata": {},
   "outputs": [
    {
     "name": "stdout",
     "output_type": "stream",
     "text": [
      "6.5\n",
      "2.5\n",
      "0.6000000000000001\n",
      "4.0\n"
     ]
    }
   ],
   "source": [
    "print (6 + 0.5)\n",
    "print (6 - 3.5)\n",
    "print (6 * 0.1)\n",
    "print (2 / 0.5)"
   ]
  },
  {
   "cell_type": "markdown",
   "id": "33533f7c",
   "metadata": {},
   "source": [
    "### Casting\n",
    "The conversion from one data type into another is called type casting or type conversion in python. Python\n",
    "supports a wide variety of functions or methods for type casting like int(), float(), str(), tuple(), set(),\n",
    "list(), dict(), etc"
   ]
  },
  {
   "cell_type": "code",
   "execution_count": 12,
   "id": "bbd2b764",
   "metadata": {},
   "outputs": [
    {
     "name": "stdout",
     "output_type": "stream",
     "text": [
      "3\n",
      "1.0\n"
     ]
    }
   ],
   "source": [
    "print (int (3.14) )\n",
    "print ( float (1) )\n"
   ]
  },
  {
   "cell_type": "markdown",
   "id": "40057a84",
   "metadata": {},
   "source": [
    "## Strings\n",
    "A string is a sequence of characters and it is defined between quotes (single or double)."
   ]
  },
  {
   "cell_type": "code",
   "execution_count": 13,
   "id": "368457a7",
   "metadata": {},
   "outputs": [
    {
     "name": "stdout",
     "output_type": "stream",
     "text": [
      "<class 'str'>\n",
      "<class 'str'>\n"
     ]
    }
   ],
   "source": [
    "s1 = \" this is a string \"\n",
    "s2 = \" this is also a string \"\n",
    "print ( type ( s1 ) )\n",
    "print ( type ( s2 ) )\n"
   ]
  },
  {
   "cell_type": "markdown",
   "id": "cbc7ebed",
   "metadata": {},
   "source": [
    "There are many built-in methods for strings in Python. For instance, the lower() method puts all the\n",
    "string characters in lowercase. In contrast, the upper() method puts all the string characters in uppercase."
   ]
  },
  {
   "cell_type": "code",
   "execution_count": 14,
   "id": "39ff2223",
   "metadata": {},
   "outputs": [
    {
     "name": "stdout",
     "output_type": "stream",
     "text": [
      " this is a string \n",
      " THIS IS A STRING \n"
     ]
    }
   ],
   "source": [
    "s1 = \" This is a String \"\n",
    "print ( s1 . lower () )\n",
    "print ( s1 . upper () )"
   ]
  },
  {
   "cell_type": "markdown",
   "id": "79820b33",
   "metadata": {},
   "source": [
    "## String concatenation\n",
    "String concatenation can be performed with the + operator.\n"
   ]
  },
  {
   "cell_type": "code",
   "execution_count": 15,
   "id": "d16a7cbe",
   "metadata": {},
   "outputs": [
    {
     "name": "stdout",
     "output_type": "stream",
     "text": [
      " This is a first string , this is a second string \n"
     ]
    }
   ],
   "source": [
    "s1 = \" This is a first string \"\n",
    "s2 = \", this is a second string \"\n",
    "s3 = s1 + s2\n",
    "print ( s3 )\n"
   ]
  },
  {
   "cell_type": "markdown",
   "id": "7e1fc0f8",
   "metadata": {},
   "source": [
    "## Basic Operations"
   ]
  },
  {
   "cell_type": "markdown",
   "id": "29497272",
   "metadata": {},
   "source": [
    "### Arithmetic Operations"
   ]
  },
  {
   "cell_type": "code",
   "execution_count": 3,
   "id": "d80a4309",
   "metadata": {},
   "outputs": [
    {
     "name": "stdout",
     "output_type": "stream",
     "text": [
      "8\n",
      "6\n",
      "42\n",
      "4.0\n",
      "4\n",
      "1\n",
      "8\n"
     ]
    }
   ],
   "source": [
    "# Addition\n",
    "print(5 + 3)\n",
    "\n",
    "# Subtraction\n",
    "print(10 - 4)\n",
    "\n",
    "# Multiplication\n",
    "print(7 * 6)\n",
    "\n",
    "# Division\n",
    "print(8 / 2)\n",
    "\n",
    "# Floor Division\n",
    "print(9 // 2)\n",
    "\n",
    "# Modulus\n",
    "print(9 % 2)\n",
    "\n",
    "# Exponentiation\n",
    "print(2 ** 3)\n"
   ]
  },
  {
   "cell_type": "markdown",
   "id": "42f39cef",
   "metadata": {},
   "source": [
    "### Comparison Operators"
   ]
  },
  {
   "cell_type": "code",
   "execution_count": 4,
   "id": "e808e110",
   "metadata": {},
   "outputs": [
    {
     "name": "stdout",
     "output_type": "stream",
     "text": [
      "True\n",
      "True\n",
      "True\n",
      "True\n",
      "True\n",
      "False\n"
     ]
    }
   ],
   "source": [
    "print(5 == 5)\n",
    "print(5 != 3)\n",
    "print(7 > 3)\n",
    "print(4 < 8)\n",
    "print(6 >= 6)\n",
    "print(3 <= 2)"
   ]
  },
  {
   "cell_type": "markdown",
   "id": "38bef22c",
   "metadata": {},
   "source": [
    "### Logical Operators"
   ]
  },
  {
   "cell_type": "code",
   "execution_count": 5,
   "id": "c2b57f7b",
   "metadata": {},
   "outputs": [
    {
     "name": "stdout",
     "output_type": "stream",
     "text": [
      "False\n",
      "True\n",
      "False\n"
     ]
    }
   ],
   "source": [
    "print(True and False)\n",
    "print(True or False)\n",
    "print(not True)"
   ]
  },
  {
   "cell_type": "markdown",
   "id": "efec7803",
   "metadata": {},
   "source": [
    "## Data Structures"
   ]
  },
  {
   "cell_type": "markdown",
   "id": "deeac707",
   "metadata": {},
   "source": [
    "### Lists\n",
    "A list is an ordered collection of items. They are defined between square brackets [], and each individual\n",
    "element is separated by commas. Lists can contain any kind of item (e.g., strings, integers, floats, etc.). Lists\n",
    "are mutable"
   ]
  },
  {
   "cell_type": "code",
   "execution_count": 16,
   "id": "84aa0816",
   "metadata": {},
   "outputs": [
    {
     "name": "stdout",
     "output_type": "stream",
     "text": [
      "['apple', 'banana', 'cherry']\n"
     ]
    }
   ],
   "source": [
    "fruits = [\"apple\", \"banana\", \"cherry\"]\n",
    "print(fruits)"
   ]
  },
  {
   "cell_type": "markdown",
   "id": "38dc1c74",
   "metadata": {},
   "source": [
    "### Accessing list elements\n",
    "You can access any element in a list by specifying the index (i.e., the position). You should write the index\n",
    "of the element in square brackets. Remember that in Python, the collection indices starts from 0."
   ]
  },
  {
   "cell_type": "markdown",
   "id": "d1d0b7fb",
   "metadata": {},
   "source": [
    "my_list = [\" apple \", 2 , \" banana \", 4]\n",
    "print ( my_list [0])\n",
    "print ( my_list [2])\n"
   ]
  },
  {
   "cell_type": "markdown",
   "id": "6dc3301f",
   "metadata": {},
   "source": [
    "### Modifying list elements\n",
    "To modify an element of a list, you should assign a new value to that element by accessing the index of the\n",
    "element that you want to modify.\n"
   ]
  },
  {
   "cell_type": "code",
   "execution_count": 17,
   "id": "35f37f3b",
   "metadata": {},
   "outputs": [
    {
     "name": "stdout",
     "output_type": "stream",
     "text": [
      "[' apple ', 2, ' banana ', 4]\n",
      "[' apple ', 10, ' banana ', 4]\n"
     ]
    }
   ],
   "source": [
    "my_list = [\" apple \", 2 , \" banana \", 4]\n",
    "print ( my_list )\n",
    "my_list [1] = 10\n",
    "print ( my_list )"
   ]
  },
  {
   "cell_type": "markdown",
   "id": "326d2388",
   "metadata": {},
   "source": [
    "### Appending elements to the end of a list\n",
    "You should use the append() method to add an element to the end of a list. The only parameter is the\n",
    "value that you want to insert."
   ]
  },
  {
   "cell_type": "code",
   "execution_count": 18,
   "id": "36d9d591",
   "metadata": {},
   "outputs": [
    {
     "name": "stdout",
     "output_type": "stream",
     "text": [
      "[' apple ', 2, ' banana ', 4]\n",
      "[' apple ', 2, ' banana ', 4, ' orange ', '3']\n"
     ]
    }
   ],
   "source": [
    "my_list = [\"apple\", 2 , \"banana\", 4]\n",
    "print ( my_list )\n",
    "my_list . append (\"orange\")\n",
    "my_list . append (\"3\")\n",
    "print ( my_list )"
   ]
  },
  {
   "cell_type": "markdown",
   "id": "68ae422c",
   "metadata": {},
   "source": [
    "This method makes it easy to build lists dynamically"
   ]
  },
  {
   "cell_type": "code",
   "execution_count": 24,
   "id": "45d923b3",
   "metadata": {},
   "outputs": [
    {
     "name": "stdout",
     "output_type": "stream",
     "text": [
      "[]\n",
      "['apple', '2', 'banana', '4']\n"
     ]
    }
   ],
   "source": [
    "my_list = []\n",
    "print (my_list)\n",
    "my_list.append (\"apple\")\n",
    "my_list.append (\"2\")\n",
    "my_list.append (\"banana\")\n",
    "my_list.append (\"4\")\n",
    "print (my_list)"
   ]
  },
  {
   "cell_type": "markdown",
   "id": "2834af81",
   "metadata": {},
   "source": [
    "### Inserting elements into a list\n",
    "You should use the insert() method to add an element to a list. It takes two parameters: the index of the\n",
    "new element and the value.\n"
   ]
  },
  {
   "cell_type": "code",
   "execution_count": 25,
   "id": "7e480bdb",
   "metadata": {},
   "outputs": [
    {
     "name": "stdout",
     "output_type": "stream",
     "text": [
      "['apple', 2, 'banana', 4]\n",
      "['orange', 'apple', 2, 'banana', 4]\n"
     ]
    }
   ],
   "source": [
    "my_list = [\"apple\", 2, \"banana\", 4]\n",
    "print (my_list)\n",
    "my_list.insert(0 , \"orange\")\n",
    "print (my_list)\n"
   ]
  },
  {
   "cell_type": "markdown",
   "id": "aab4496e",
   "metadata": {},
   "source": [
    "### Removing elements from a list\n",
    "You have three options to remove elements from a list:\n",
    "1. Del statement. You can remove the item in a particular index from a list using the del statement.\n",
    "However, after the removal, you can no longer access the value that was removed."
   ]
  },
  {
   "cell_type": "code",
   "execution_count": 26,
   "id": "e8357e18",
   "metadata": {},
   "outputs": [
    {
     "name": "stdout",
     "output_type": "stream",
     "text": [
      "['apple', 2, 'banana', 4]\n",
      "['apple', 2, 4]\n"
     ]
    }
   ],
   "source": [
    "my_list = [\"apple\", 2, \"banana\", 4]\n",
    "print (my_list)\n",
    "del my_list[2]\n",
    "print (my_list)\n"
   ]
  },
  {
   "cell_type": "markdown",
   "id": "ee3ea640",
   "metadata": {},
   "source": [
    "2. Pop method. The pop() method removes the item in the index provided as a parameter from a list and\n",
    "returns its value. In this case, you can access the value of the removed item. If you don’t specify an index,\n",
    "the last item will be removed."
   ]
  },
  {
   "cell_type": "code",
   "execution_count": 27,
   "id": "6a80a893",
   "metadata": {},
   "outputs": [
    {
     "name": "stdout",
     "output_type": "stream",
     "text": [
      "['apple', 2, 'banana', 4, 'orange', 3]\n",
      "['apple', 2, 'banana', 4, 'orange']\n",
      "['apple', 2, 4, 'orange']\n",
      "First item removed : 3\n",
      "Second item removed : banana\n"
     ]
    }
   ],
   "source": [
    "my_list = [\"apple\", 2 , \"banana\", 4, \"orange\", 3]\n",
    "print (my_list)\n",
    "removed_item_1 = my_list.pop()\n",
    "print (my_list)\n",
    "removed_item_2 = my_list.pop(2)\n",
    "print (my_list)\n",
    "print (\"First item removed :\", removed_item_1)\n",
    "print (\"Second item removed :\", removed_item_2)"
   ]
  },
  {
   "cell_type": "markdown",
   "id": "5182cefe",
   "metadata": {},
   "source": [
    "3. Remove method. You can remove an item by value with the remove() method. It will remove only the\n",
    "first occurrence of the value specified as parameter.\n"
   ]
  },
  {
   "cell_type": "code",
   "execution_count": 28,
   "id": "454b9c09",
   "metadata": {},
   "outputs": [
    {
     "name": "stdout",
     "output_type": "stream",
     "text": [
      "['apple', 2, 'banana', 4, 'banana', 2]\n",
      "['apple', 2, 4, 'banana', 2]\n",
      "['apple', 2, 'banana', 2]\n"
     ]
    }
   ],
   "source": [
    "my_list = [\"apple\", 2, \"banana\", 4, \"banana\", 2]\n",
    "print (my_list)\n",
    "my_list.remove(\"banana\")\n",
    "print (my_list)\n",
    "my_list.remove(4)\n",
    "print (my_list)"
   ]
  },
  {
   "cell_type": "markdown",
   "id": "d2f95bdd",
   "metadata": {},
   "source": [
    "### Number of elements of a list\n",
    "You can find the number of elements in a list using the len() function.\n"
   ]
  },
  {
   "cell_type": "code",
   "execution_count": 30,
   "id": "db98af82",
   "metadata": {},
   "outputs": [
    {
     "name": "stdout",
     "output_type": "stream",
     "text": [
      "6\n"
     ]
    }
   ],
   "source": [
    "my_list = [\"apple\", 2, \"banana\", 4, \"orange\", 3]\n",
    "print (len(my_list))"
   ]
  },
  {
   "cell_type": "markdown",
   "id": "46de0971",
   "metadata": {},
   "source": [
    "### Sorting elements of a list\n",
    "To sort the elements of a list, you can use either the sort() method or the sorted() function. The difference\n",
    "is that the sort() method is applied in place (i.e., orders the elements of the list and saves directly in the\n",
    "list itself). In contrast, the sorted() function returns a sorted list, but the values of the original list are\n",
    "unchanged."
   ]
  },
  {
   "cell_type": "code",
   "execution_count": 31,
   "id": "67d48c6c",
   "metadata": {},
   "outputs": [
    {
     "name": "stdout",
     "output_type": "stream",
     "text": [
      "[2, 1, 4, 5, 3]\n",
      "[1, 2, 3, 4, 5]\n"
     ]
    }
   ],
   "source": [
    "my_list = [2 , 1, 4, 5, 3]\n",
    "print ( my_list )\n",
    "my_list . sort ()\n",
    "print ( my_list )"
   ]
  },
  {
   "cell_type": "code",
   "execution_count": 32,
   "id": "a60031f1",
   "metadata": {},
   "outputs": [
    {
     "name": "stdout",
     "output_type": "stream",
     "text": [
      "[2, 1, 4, 5, 3]\n",
      " my_sorted_list : [1, 2, 3, 4, 5]\n",
      " my_list : [2, 1, 4, 5, 3]\n"
     ]
    }
   ],
   "source": [
    "my_list = [2 , 1, 4, 5, 3]\n",
    "print ( my_list )\n",
    "my_sorted_list = sorted ( my_list )\n",
    "print (\" my_sorted_list :\", my_sorted_list )\n",
    "print (\" my_list :\", my_list )\n"
   ]
  },
  {
   "cell_type": "markdown",
   "id": "532ef41e",
   "metadata": {},
   "source": [
    "### Slicing a list\n",
    "You can access sublists (as for substrings or tuples) by specifying the start (included) and stop (excluded)\n",
    "indices with the following syntax [start:stop]. You can omit the start or the stop indices to start from\n",
    "the beginning or go until the end, respectively. Remember that in python, the starting position is 0."
   ]
  },
  {
   "cell_type": "code",
   "execution_count": 34,
   "id": "54cf4dcf",
   "metadata": {},
   "outputs": [
    {
     "name": "stdout",
     "output_type": "stream",
     "text": [
      "[1, 2, 3, 4, 5]\n",
      "[1, 2, 3]\n",
      "[4, 5]\n",
      "[2, 3]\n"
     ]
    }
   ],
   "source": [
    "my_list = [1 , 2, 3, 4, 5]\n",
    "print (my_list)\n",
    "print (my_list[:3]) # From the beginning until the fourth ( excluded )\n",
    "print (my_list [3:]) # From the fourth until the end\n",
    "print (my_list [1:3]) # From the second until the fourth ( excluded )"
   ]
  },
  {
   "cell_type": "markdown",
   "id": "87211e64",
   "metadata": {},
   "source": [
    "### Statistics for list of numbers\n",
    "You can also compute simple statistics to list of numbers using, for example, the max(), min(), and sum()\n",
    "functions:"
   ]
  },
  {
   "cell_type": "code",
   "execution_count": 35,
   "id": "6fc19ce8",
   "metadata": {},
   "outputs": [
    {
     "name": "stdout",
     "output_type": "stream",
     "text": [
      "4\n",
      "1\n",
      "10\n"
     ]
    }
   ],
   "source": [
    "my_list = [1 , 2, 3, 4]\n",
    "print (max( my_list ))\n",
    "print (min( my_list ))\n",
    "print (sum( my_list ))"
   ]
  },
  {
   "cell_type": "markdown",
   "id": "c315bc4a",
   "metadata": {},
   "source": [
    "## Loops\n",
    "If you want to perform actions through all items in a sequence, you can use for loops. In this way, you can\n",
    "automate repetitive tasks. You should use the keyword for and indent the block that you want to reapeat\n",
    "with a \\tab. This example iterates over the entire loop and prints the value of each item:\n"
   ]
  },
  {
   "cell_type": "markdown",
   "id": "4c7e91f3",
   "metadata": {},
   "source": [
    "### Iterating over a list"
   ]
  },
  {
   "cell_type": "code",
   "execution_count": 36,
   "id": "48d14941",
   "metadata": {},
   "outputs": [
    {
     "name": "stdout",
     "output_type": "stream",
     "text": [
      "apple\n",
      "banana\n",
      "cherry\n"
     ]
    }
   ],
   "source": [
    "# Iterating over a list of strings\n",
    "fruits = [\"apple\", \"banana\", \"cherry\"]\n",
    "for fruit in fruits:\n",
    "    print(fruit)"
   ]
  },
  {
   "cell_type": "markdown",
   "id": "7e76fc7d",
   "metadata": {},
   "source": [
    "### Iterating over a range"
   ]
  },
  {
   "cell_type": "code",
   "execution_count": 37,
   "id": "7d8d1c63",
   "metadata": {},
   "outputs": [
    {
     "name": "stdout",
     "output_type": "stream",
     "text": [
      "1\n",
      "2\n",
      "3\n",
      "4\n",
      "5\n"
     ]
    }
   ],
   "source": [
    "# Using range to iterate over a sequence of numbers\n",
    "for i in range(1, 6):\n",
    "    print(i)"
   ]
  },
  {
   "cell_type": "markdown",
   "id": "bd1a542d",
   "metadata": {},
   "source": [
    "### Iterating over a dictionary"
   ]
  },
  {
   "cell_type": "code",
   "execution_count": 38,
   "id": "0b06458b",
   "metadata": {},
   "outputs": [
    {
     "name": "stdout",
     "output_type": "stream",
     "text": [
      "name: Alice\n",
      "age: 25\n",
      "city: New York\n"
     ]
    }
   ],
   "source": [
    "# Iterating over dictionary items\n",
    "person = {\"name\": \"Alice\", \"age\": 25, \"city\": \"New York\"}\n",
    "for key, value in person.items():\n",
    "    print(f\"{key}: {value}\")"
   ]
  },
  {
   "cell_type": "markdown",
   "id": "6cd49a8e",
   "metadata": {},
   "source": [
    "### Nested loops"
   ]
  },
  {
   "cell_type": "code",
   "execution_count": 39,
   "id": "70c155f0",
   "metadata": {},
   "outputs": [
    {
     "name": "stdout",
     "output_type": "stream",
     "text": [
      "1 2 3 \n",
      "4 5 6 \n",
      "7 8 9 \n"
     ]
    }
   ],
   "source": [
    "# Using nested for loops to iterate over a matrix\n",
    "matrix = [[1, 2, 3], [4, 5, 6], [7, 8, 9]]\n",
    "for row in matrix:\n",
    "    for element in row:\n",
    "        print(element, end=\" \")\n",
    "    print()"
   ]
  },
  {
   "cell_type": "markdown",
   "id": "6d708b64",
   "metadata": {},
   "source": [
    "### Simple while loop"
   ]
  },
  {
   "cell_type": "code",
   "execution_count": 40,
   "id": "e7c625b9",
   "metadata": {},
   "outputs": [
    {
     "name": "stdout",
     "output_type": "stream",
     "text": [
      "5\n",
      "4\n",
      "3\n",
      "2\n",
      "1\n"
     ]
    }
   ],
   "source": [
    "# Counting down from 5\n",
    "count = 5\n",
    "while count > 0:\n",
    "    print(count)\n",
    "    count -= 1"
   ]
  },
  {
   "cell_type": "markdown",
   "id": "b5a1702b",
   "metadata": {},
   "source": [
    "### Using Break in while loop"
   ]
  },
  {
   "cell_type": "code",
   "execution_count": 41,
   "id": "67eba648",
   "metadata": {},
   "outputs": [
    {
     "name": "stdout",
     "output_type": "stream",
     "text": [
      "0\n",
      "1\n",
      "2\n",
      "3\n",
      "4\n"
     ]
    }
   ],
   "source": [
    "# Breaking out of a while loop\n",
    "count = 0\n",
    "while True:\n",
    "    print(count)\n",
    "    count += 1\n",
    "    if count == 5:\n",
    "        break"
   ]
  },
  {
   "cell_type": "markdown",
   "id": "d898cc05",
   "metadata": {},
   "source": [
    "### Using continue in while loop"
   ]
  },
  {
   "cell_type": "code",
   "execution_count": 42,
   "id": "d8220610",
   "metadata": {},
   "outputs": [
    {
     "name": "stdout",
     "output_type": "stream",
     "text": [
      "1\n",
      "3\n",
      "5\n",
      "7\n",
      "9\n"
     ]
    }
   ],
   "source": [
    "# Using continue to skip an iteration\n",
    "count = 0\n",
    "while count < 10:\n",
    "    count += 1\n",
    "    if count % 2 == 0:\n",
    "        continue\n",
    "    print(count)"
   ]
  },
  {
   "cell_type": "markdown",
   "id": "5be07e32",
   "metadata": {},
   "source": [
    "### For loop with else"
   ]
  },
  {
   "cell_type": "code",
   "execution_count": 43,
   "id": "80c8a5b6",
   "metadata": {},
   "outputs": [
    {
     "name": "stdout",
     "output_type": "stream",
     "text": [
      "0\n",
      "1\n",
      "2\n",
      "3\n",
      "4\n",
      "Loop completed successfully\n"
     ]
    }
   ],
   "source": [
    "# Using else with a for loop\n",
    "for i in range(5):\n",
    "    print(i)\n",
    "else:\n",
    "    print(\"Loop completed successfully\")"
   ]
  },
  {
   "cell_type": "markdown",
   "id": "f7f55d9d",
   "metadata": {},
   "source": [
    "### While loop with else"
   ]
  },
  {
   "cell_type": "code",
   "execution_count": 44,
   "id": "dc7f29b5",
   "metadata": {},
   "outputs": [
    {
     "name": "stdout",
     "output_type": "stream",
     "text": [
      "0\n",
      "1\n",
      "2\n",
      "3\n",
      "4\n",
      "Loop completed successfully\n"
     ]
    }
   ],
   "source": [
    "# Using else with a while loop\n",
    "count = 0\n",
    "while count < 5:\n",
    "    print(count)\n",
    "    count += 1\n",
    "else:\n",
    "    print(\"Loop completed successfully\")"
   ]
  },
  {
   "cell_type": "markdown",
   "id": "47c36d07",
   "metadata": {},
   "source": [
    "### Loop over a string"
   ]
  },
  {
   "cell_type": "code",
   "execution_count": 45,
   "id": "cae74654",
   "metadata": {},
   "outputs": [
    {
     "name": "stdout",
     "output_type": "stream",
     "text": [
      "P\n",
      "y\n",
      "t\n",
      "h\n",
      "o\n",
      "n\n"
     ]
    }
   ],
   "source": [
    "# Iterating over characters in a string\n",
    "word = \"Python\"\n",
    "for char in word:\n",
    "    print(char)"
   ]
  },
  {
   "cell_type": "markdown",
   "id": "6f36727d",
   "metadata": {},
   "source": [
    "### Using Enumerate in a For Loop"
   ]
  },
  {
   "cell_type": "code",
   "execution_count": 46,
   "id": "59578534",
   "metadata": {},
   "outputs": [
    {
     "name": "stdout",
     "output_type": "stream",
     "text": [
      "0 apple\n",
      "1 banana\n",
      "2 cherry\n"
     ]
    }
   ],
   "source": [
    "# Using enumerate to get index and value\n",
    "fruits = [\"apple\", \"banana\", \"cherry\"]\n",
    "for index, fruit in enumerate(fruits):\n",
    "    print(index, fruit)"
   ]
  },
  {
   "cell_type": "markdown",
   "id": "587f083e",
   "metadata": {},
   "source": [
    "### Using Zip in a For Loop"
   ]
  },
  {
   "cell_type": "code",
   "execution_count": 47,
   "id": "9f4f0712",
   "metadata": {},
   "outputs": [
    {
     "name": "stdout",
     "output_type": "stream",
     "text": [
      "Alice is 25 years old\n",
      "Bob is 30 years old\n",
      "Charlie is 35 years old\n"
     ]
    }
   ],
   "source": [
    "# Iterating over two lists simultaneously\n",
    "names = [\"Alice\", \"Bob\", \"Charlie\"]\n",
    "ages = [25, 30, 35]\n",
    "for name, age in zip(names, ages):\n",
    "    print(f\"{name} is {age} years old\")"
   ]
  },
  {
   "cell_type": "markdown",
   "id": "794b5fbc",
   "metadata": {},
   "source": [
    "## List comprehensions"
   ]
  },
  {
   "cell_type": "markdown",
   "id": "0a443d94",
   "metadata": {},
   "source": [
    "List comprehensions can be used to combine lists and loops and write compact code. This example shows\n",
    "the code to compute the square of each element of a list:"
   ]
  },
  {
   "cell_type": "markdown",
   "id": "0155dcd4",
   "metadata": {},
   "source": [
    "### Example: Squaring Numbers in a List\n",
    "#### Traditional For Loop Approach"
   ]
  },
  {
   "cell_type": "code",
   "execution_count": 48,
   "id": "9745a0a6",
   "metadata": {},
   "outputs": [
    {
     "name": "stdout",
     "output_type": "stream",
     "text": [
      "[1, 4, 9, 16, 25]\n"
     ]
    }
   ],
   "source": [
    "# Using a traditional for loop to create a list of squares\n",
    "numbers = [1, 2, 3, 4, 5]\n",
    "squares = []\n",
    "for number in numbers:\n",
    "    squares.append(number ** 2)\n",
    "print(squares)"
   ]
  },
  {
   "cell_type": "markdown",
   "id": "0874043d",
   "metadata": {},
   "source": [
    "#### List Comprehension Approach"
   ]
  },
  {
   "cell_type": "code",
   "execution_count": 49,
   "id": "c18b08a4",
   "metadata": {},
   "outputs": [
    {
     "name": "stdout",
     "output_type": "stream",
     "text": [
      "[1, 4, 9, 16, 25]\n"
     ]
    }
   ],
   "source": [
    "# Using list comprehension to create a list of squares\n",
    "numbers = [1, 2, 3, 4, 5]\n",
    "squares = [number ** 2 for number in numbers]\n",
    "print(squares)"
   ]
  },
  {
   "cell_type": "markdown",
   "id": "57b960a3",
   "metadata": {},
   "source": [
    "The list comprehension [number ** 2 for number in numbers] creates a new list by iterating over each number in the numbers list and applying the expression number ** 2.\n",
    "This approach is more concise and often more readable than using a traditional for loop with append."
   ]
  },
  {
   "cell_type": "markdown",
   "id": "0c141104",
   "metadata": {},
   "source": [
    "#  Conditional statements\n",
    "To run code blocks based on some conditions, you can use the if/else/elif statements."
   ]
  },
  {
   "cell_type": "code",
   "execution_count": 50,
   "id": "d8ddf16d",
   "metadata": {},
   "outputs": [
    {
     "name": "stdout",
     "output_type": "stream",
     "text": [
      "The grade for a score of 85 is B.\n"
     ]
    }
   ],
   "source": [
    "# Example of a conditional statement to determine letter grade\n",
    "score = 85\n",
    "\n",
    "if score >= 90:\n",
    "    grade = 'A'\n",
    "elif score >= 80:\n",
    "    grade = 'B'\n",
    "elif score >= 70:\n",
    "    grade = 'C'\n",
    "elif score >= 60:\n",
    "    grade = 'D'\n",
    "else:\n",
    "    grade = 'F'\n",
    "\n",
    "print(f\"The grade for a score of {score} is {grade}.\")"
   ]
  },
  {
   "cell_type": "code",
   "execution_count": 51,
   "id": "103afc09",
   "metadata": {},
   "outputs": [
    {
     "name": "stdout",
     "output_type": "stream",
     "text": [
      "2024 is a leap year.\n"
     ]
    }
   ],
   "source": [
    "# Example of a conditional statement to determine if a year is a leap year\n",
    "year = 2024\n",
    "\n",
    "if (year % 4 == 0 and year % 100 != 0) or (year % 400 == 0):\n",
    "    is_leap_year = True\n",
    "else:\n",
    "    is_leap_year = False\n",
    "\n",
    "if is_leap_year:\n",
    "    print(f\"{year} is a leap year.\")\n",
    "else:\n",
    "    print(f\"{year} is not a leap year.\")\n"
   ]
  },
  {
   "cell_type": "code",
   "execution_count": 53,
   "id": "df751292",
   "metadata": {},
   "outputs": [
    {
     "name": "stdout",
     "output_type": "stream",
     "text": [
      " Not an apple or banana \n",
      "I found a banana \n",
      " Not an apple or banana \n",
      " Not an apple or banana \n",
      " Not an apple or banana \n"
     ]
    }
   ],
   "source": [
    "my_list = [\"apple \" , \" banana \" , \" Apple \" , \" Banana \" , \" APPLE \"]\n",
    "for el in my_list :\n",
    "    if el == \" apple \": # First condition cheked . If True is run this code\n",
    "        print (\"I found an apple \")\n",
    "    elif el == \" banana \": # If the first condition is not True , the second condition is checked . If True is run this code\n",
    "        print (\"I found a banana \" )\n",
    "    else : # If both conditions are False\n",
    "        print (\" Not an apple or banana \")"
   ]
  },
  {
   "cell_type": "markdown",
   "id": "9c19a582",
   "metadata": {},
   "source": [
    "String equality is case-sensitive. If you want to ignore the case while checking for equality or inequality,\n",
    "you should use the lower() function"
   ]
  },
  {
   "cell_type": "code",
   "execution_count": 54,
   "id": "7ae2f14b",
   "metadata": {},
   "outputs": [
    {
     "name": "stdout",
     "output_type": "stream",
     "text": [
      "I found an apple \n",
      "I found a banana \n",
      "I found an apple \n",
      "I found a banana \n",
      "I found an apple \n"
     ]
    }
   ],
   "source": [
    "my_list = [\" apple \" , \" banana \" , \" Apple \" , \" Banana \" , \" APPLE \"]\n",
    "for el in my_list :\n",
    "    if el . lower () == \" apple \": # the lower () method puts all characters in lowercase\n",
    "        print (\"I found an apple \")\n",
    "    elif el . lower () == \" banana \": # the lower () method puts all characters in lowercase\n",
    "        print (\"I found a banana \")\n",
    "    else :\n",
    "        print (\" Not an apple or banana \")"
   ]
  },
  {
   "cell_type": "markdown",
   "id": "631357d2",
   "metadata": {},
   "source": [
    "### Check if a list contains an item\n",
    "You can check if the list contains a particular item with the in operan"
   ]
  },
  {
   "cell_type": "code",
   "execution_count": 55,
   "id": "914414d0",
   "metadata": {},
   "outputs": [
    {
     "name": "stdout",
     "output_type": "stream",
     "text": [
      " apple in the list \n"
     ]
    }
   ],
   "source": [
    "my_list = [\" apple \", \" banana \", \" orange \", \" banana \", \" apple \"]\n",
    "if \" apple \" in my_list :\n",
    "    print (\" apple in the list \")\n",
    "else :\n",
    "    print (\" apple not in the list \")"
   ]
  },
  {
   "cell_type": "markdown",
   "id": "f1d3c39a",
   "metadata": {},
   "source": [
    "If you want to check if a value is not present in the list, you can negate the in operand.\n"
   ]
  },
  {
   "cell_type": "code",
   "execution_count": 56,
   "id": "d7504fcd",
   "metadata": {},
   "outputs": [
    {
     "name": "stdout",
     "output_type": "stream",
     "text": [
      " car in the list \n"
     ]
    }
   ],
   "source": [
    "my_list = [\" apple \", \" banana \", \" orange \", \" banana \", \" apple \"]\n",
    "if \" car \" not in my_list :\n",
    "    print (\" car in the list \")\n",
    "else :\n",
    "    print (\" car not in the list \")"
   ]
  },
  {
   "cell_type": "markdown",
   "id": "02d5e367",
   "metadata": {},
   "source": [
    "## Dictionary\n",
    "A Python dictionary is a collection of key-value pairs. Each key-value pair maps the key to its associated value. Dictionaries are mutable, meaning they can be changed after creation, and they are unordered, meaning that the items do not have a defined order. They are also indexed, allowing for fast retrieval of values based on their keys.\n",
    "\n",
    "Key Characteristics:\n",
    "- Keys: Must be unique and immutable (e.g., strings, numbers, tuples).\n",
    "- Values: Can be of any data type and can be duplicated.\n",
    "- Syntax: Defined using curly braces {} with key-value pairs separated by colons : and pairs separated by commas ,."
   ]
  },
  {
   "cell_type": "markdown",
   "id": "62d5d46a",
   "metadata": {},
   "source": [
    "### Examples of Python Dictionaries\n",
    "#### Creating a Dictionary\n"
   ]
  },
  {
   "cell_type": "code",
   "execution_count": 57,
   "id": "b4e21268",
   "metadata": {},
   "outputs": [
    {
     "name": "stdout",
     "output_type": "stream",
     "text": [
      "{'name': 'Alice', 'age': 25, 'city': 'New York'}\n"
     ]
    }
   ],
   "source": [
    "# Creating a dictionary\n",
    "person = {\n",
    "    \"name\": \"Alice\",\n",
    "    \"age\": 25,\n",
    "    \"city\": \"New York\"\n",
    "}\n",
    "print(person)"
   ]
  },
  {
   "cell_type": "markdown",
   "id": "97d10ee4",
   "metadata": {},
   "source": [
    "#### Accessing values"
   ]
  },
  {
   "cell_type": "code",
   "execution_count": 58,
   "id": "c6772958",
   "metadata": {},
   "outputs": [
    {
     "name": "stdout",
     "output_type": "stream",
     "text": [
      "Name: Alice\n",
      "Age: 25\n"
     ]
    }
   ],
   "source": [
    "# Accessing values by keys\n",
    "name = person[\"name\"]\n",
    "print(f\"Name: {name}\")\n",
    "\n",
    "# Using the get method to access values\n",
    "age = person.get(\"age\")\n",
    "print(f\"Age: {age}\")\n"
   ]
  },
  {
   "cell_type": "markdown",
   "id": "eb6ec05d",
   "metadata": {},
   "source": [
    "#### Adding or Updating Entries"
   ]
  },
  {
   "cell_type": "code",
   "execution_count": 59,
   "id": "52c97588",
   "metadata": {},
   "outputs": [
    {
     "name": "stdout",
     "output_type": "stream",
     "text": [
      "{'name': 'Alice', 'age': 25, 'city': 'New York', 'email': 'alice@example.com'}\n",
      "{'name': 'Alice', 'age': 26, 'city': 'New York', 'email': 'alice@example.com'}\n"
     ]
    }
   ],
   "source": [
    "# Adding a new key-value pair\n",
    "person[\"email\"] = \"alice@example.com\"\n",
    "print(person)\n",
    "\n",
    "# Updating an existing value\n",
    "person[\"age\"] = 26\n",
    "print(person)\n"
   ]
  },
  {
   "cell_type": "markdown",
   "id": "faeb656b",
   "metadata": {},
   "source": [
    "#### Removing entries"
   ]
  },
  {
   "cell_type": "code",
   "execution_count": 60,
   "id": "7f4f77d1",
   "metadata": {},
   "outputs": [
    {
     "name": "stdout",
     "output_type": "stream",
     "text": [
      "{'name': 'Alice', 'age': 26, 'email': 'alice@example.com'}\n",
      "{'name': 'Alice', 'age': 26}\n",
      "Removed email: alice@example.com\n"
     ]
    }
   ],
   "source": [
    "# Removing a key-value pair using del\n",
    "del person[\"city\"]\n",
    "print(person)\n",
    "\n",
    "# Removing a key-value pair using pop\n",
    "email = person.pop(\"email\")\n",
    "print(person)\n",
    "print(f\"Removed email: {email}\")\n"
   ]
  },
  {
   "cell_type": "markdown",
   "id": "64ba1413",
   "metadata": {},
   "source": [
    "#### Iterating over a dictionary"
   ]
  },
  {
   "cell_type": "code",
   "execution_count": 61,
   "id": "216a4d71",
   "metadata": {},
   "outputs": [
    {
     "name": "stdout",
     "output_type": "stream",
     "text": [
      "Key: name\n",
      "Key: age\n",
      "Value: Alice\n",
      "Value: 26\n",
      "name: Alice\n",
      "age: 26\n"
     ]
    }
   ],
   "source": [
    "# Iterating over keys\n",
    "for key in person:\n",
    "    print(f\"Key: {key}\")\n",
    "\n",
    "# Iterating over values\n",
    "for value in person.values():\n",
    "    print(f\"Value: {value}\")\n",
    "\n",
    "# Iterating over key-value pairs\n",
    "for key, value in person.items():\n",
    "    print(f\"{key}: {value}\")\n"
   ]
  },
  {
   "cell_type": "markdown",
   "id": "e5b7f495",
   "metadata": {},
   "source": [
    "#### Checking for keys"
   ]
  },
  {
   "cell_type": "code",
   "execution_count": 62,
   "id": "fc1f0061",
   "metadata": {},
   "outputs": [
    {
     "name": "stdout",
     "output_type": "stream",
     "text": [
      "The key 'name' exists in the dictionary.\n",
      "The key 'address' does not exist in the dictionary.\n"
     ]
    }
   ],
   "source": [
    "# Checking if a key exists in a dictionary\n",
    "if \"name\" in person:\n",
    "    print(\"The key 'name' exists in the dictionary.\")\n",
    "\n",
    "if \"address\" not in person:\n",
    "    print(\"The key 'address' does not exist in the dictionary.\")\n"
   ]
  },
  {
   "cell_type": "markdown",
   "id": "c553698f",
   "metadata": {},
   "source": [
    "#### Dictionary Comprehensions"
   ]
  },
  {
   "cell_type": "code",
   "execution_count": 63,
   "id": "549411c6",
   "metadata": {},
   "outputs": [
    {
     "name": "stdout",
     "output_type": "stream",
     "text": [
      "{1: 1, 2: 4, 3: 9, 4: 16, 5: 25}\n"
     ]
    }
   ],
   "source": [
    "# Creating a dictionary using dictionary comprehension\n",
    "squares = {x: x ** 2 for x in range(1, 6)}\n",
    "print(squares)\n"
   ]
  },
  {
   "cell_type": "markdown",
   "id": "d7a6d8c8",
   "metadata": {},
   "source": [
    "#### Practical Example: Word Count"
   ]
  },
  {
   "cell_type": "code",
   "execution_count": 64,
   "id": "d2625d1c",
   "metadata": {},
   "outputs": [
    {
     "name": "stdout",
     "output_type": "stream",
     "text": [
      "{'the': 3, 'quick': 2, 'brown': 2, 'fox': 2, 'jumps': 1, 'over': 1, 'lazy': 1, 'dog': 1}\n"
     ]
    }
   ],
   "source": [
    "# Counting the frequency of each word in a sentence\n",
    "sentence = \"the quick brown fox jumps over the lazy dog the quick brown fox\"\n",
    "words = sentence.split()\n",
    "word_count = {}\n",
    "\n",
    "for word in words:\n",
    "    if word in word_count:\n",
    "        word_count[word] += 1\n",
    "    else:\n",
    "        word_count[word] = 1\n",
    "\n",
    "print(word_count)\n"
   ]
  },
  {
   "cell_type": "markdown",
   "id": "3f6a08fe",
   "metadata": {},
   "source": [
    "### Dictionary recap\n",
    "- Creating a Dictionary: The person dictionary contains information about a person with keys like \"name\", \"age\", and \"city\".\n",
    "- Accessing Values: You can access values using keys, either directly or with the get method.\n",
    "- Adding or Updating Entries: New key-value pairs can be added, and existing values can be updated.\n",
    "- Removing Entries: Key-value pairs can be removed using del or pop.\n",
    "- Iterating Over a Dictionary: You can iterate over keys, values, or key-value pairs using loops.\n",
    "- Checking for Keys: You can check if a key exists in the dictionary.\n",
    "- Dictionary Comprehensions: A concise way to create dictionaries.\n",
    "- Word Count Example: A practical example demonstrating how to count word frequencies in a sentence using a dictionary."
   ]
  },
  {
   "cell_type": "markdown",
   "id": "976b84d5",
   "metadata": {},
   "source": [
    "## Booleans\n",
    "A Boolean expression is just another name for a conditional test. A Boolean value is either True or False.\n",
    "As in one previous example, you want to check if the list contains a particular item with the in operand.\n",
    "However, you want to create a boolean with the value True is the item is in the list, False otherwise"
   ]
  },
  {
   "cell_type": "code",
   "execution_count": 66,
   "id": "e2898565",
   "metadata": {},
   "outputs": [
    {
     "name": "stdout",
     "output_type": "stream",
     "text": [
      "True\n"
     ]
    }
   ],
   "source": [
    "my_list = [\" apple \", \" banana \", \" orange \", \" banana \", \" apple \"]\n",
    "if \" apple \" in my_list :\n",
    "    my_flag = True\n",
    "else :\n",
    "    my_flag = False\n",
    "print ( my_flag )\n"
   ]
  },
  {
   "cell_type": "markdown",
   "id": "4f245e49",
   "metadata": {},
   "source": [
    "## Functions\n",
    "Functions are useful to avoid repetitive code.\n",
    "### Function definition and invocation (call)\n",
    "A function is defined with the def keyword, followed by the name of the function, the parameters between\n",
    "round brackets, and a column."
   ]
  },
  {
   "cell_type": "code",
   "execution_count": 67,
   "id": "41d7e020",
   "metadata": {},
   "outputs": [
    {
     "name": "stdout",
     "output_type": "stream",
     "text": [
      " hello \n",
      "10\n"
     ]
    }
   ],
   "source": [
    "def my_print_fn (x) : # function definition\n",
    "    print (x)\n",
    "    return # return statement\n",
    "\n",
    "my_print_fn (\"hello\") # function call\n",
    "my_print_fn (10)"
   ]
  },
  {
   "cell_type": "markdown",
   "id": "28ed290e",
   "metadata": {},
   "source": [
    "### Returning multiple values\n",
    "A function can return multiple values. In this example, the function takes two parameters in input and\n",
    "returns their sum and difference."
   ]
  },
  {
   "cell_type": "code",
   "execution_count": 68,
   "id": "830940dd",
   "metadata": {},
   "outputs": [
    {
     "name": "stdout",
     "output_type": "stream",
     "text": [
      "15\n",
      "5\n"
     ]
    }
   ],
   "source": [
    "def my_print_fn (x , y) : # function definition\n",
    "    my_sum = x + y\n",
    "    my_diff = x - y\n",
    "    return my_sum , my_diff # return statement\n",
    "\n",
    "my_sum , my_diff = my_print_fn (10 , 5) # function call\n",
    "print (my_sum)\n",
    "print (my_diff)"
   ]
  },
  {
   "cell_type": "markdown",
   "id": "c8b1d939",
   "metadata": {},
   "source": [
    "### Example: Function to Calculate the Factorial of a Number\n",
    "#### Defining the Function"
   ]
  },
  {
   "cell_type": "code",
   "execution_count": 69,
   "id": "c5d54acf",
   "metadata": {},
   "outputs": [],
   "source": [
    "def factorial(n):\n",
    "    \"\"\"\n",
    "    Calculate the factorial of a given number.\n",
    "\n",
    "    Parameters:\n",
    "    n (int): The number to calculate the factorial of.\n",
    "\n",
    "    Returns:\n",
    "    int: The factorial of the given number.\n",
    "    \"\"\"\n",
    "    if n == 0:\n",
    "        return 1\n",
    "    else:\n",
    "        return n * factorial(n - 1)\n"
   ]
  },
  {
   "cell_type": "markdown",
   "id": "2a4fcda7",
   "metadata": {},
   "source": [
    "- Function Name: factorial\n",
    "- Parameter: n (the number for which the factorial is to be calculated)\n",
    "- Docstring: A description of the function, including its parameters and return value.\n",
    "- Base Case: If n is 0, the function returns 1 (the factorial of 0 is 1).\n",
    "- Recursive Case: The function calls itself with n - 1 and multiplies the result by n."
   ]
  },
  {
   "cell_type": "markdown",
   "id": "f2da1832",
   "metadata": {},
   "source": [
    "Using the Function"
   ]
  },
  {
   "cell_type": "code",
   "execution_count": 70,
   "id": "33cb715f",
   "metadata": {},
   "outputs": [
    {
     "name": "stdout",
     "output_type": "stream",
     "text": [
      "The factorial of 5 is 120\n",
      "The factorial of 7 is 5040\n"
     ]
    }
   ],
   "source": [
    "# Calculate the factorial of 5\n",
    "result = factorial(5)\n",
    "print(f\"The factorial of 5 is {result}\")\n",
    "\n",
    "# Calculate the factorial of 7\n",
    "result = factorial(7)\n",
    "print(f\"The factorial of 7 is {result}\")\n"
   ]
  },
  {
   "cell_type": "markdown",
   "id": "cf721afd",
   "metadata": {},
   "source": [
    "### Example: Function to Check if a Number is Prime"
   ]
  },
  {
   "cell_type": "code",
   "execution_count": 71,
   "id": "4a57c79d",
   "metadata": {},
   "outputs": [
    {
     "name": "stdout",
     "output_type": "stream",
     "text": [
      "True\n",
      "False\n"
     ]
    }
   ],
   "source": [
    "def is_prime(number):\n",
    "    \"\"\"\n",
    "    Check if a number is prime.\n",
    "\n",
    "    Parameters:\n",
    "    number (int): The number to check.\n",
    "\n",
    "    Returns:\n",
    "    bool: True if the number is prime, False otherwise.\n",
    "    \"\"\"\n",
    "    if number <= 1:\n",
    "        return False\n",
    "    for i in range(2, int(number ** 0.5) + 1):\n",
    "        if number % i == 0:\n",
    "            return False\n",
    "    return True\n",
    "\n",
    "# Check if numbers are prime\n",
    "print(is_prime(11))  # True\n",
    "print(is_prime(14))  # False\n"
   ]
  },
  {
   "cell_type": "markdown",
   "id": "b897abb2",
   "metadata": {},
   "source": [
    "#### Example: Function to Calculate the Sum of a List\n"
   ]
  },
  {
   "cell_type": "code",
   "execution_count": 72,
   "id": "0fdfab85",
   "metadata": {},
   "outputs": [
    {
     "name": "stdout",
     "output_type": "stream",
     "text": [
      "15\n",
      "60\n"
     ]
    }
   ],
   "source": [
    "def sum_list(numbers):\n",
    "    \"\"\"\n",
    "    Calculate the sum of a list of numbers.\n",
    "\n",
    "    Parameters:\n",
    "    numbers (list): A list of numbers to sum.\n",
    "\n",
    "    Returns:\n",
    "    int or float: The sum of the numbers in the list.\n",
    "    \"\"\"\n",
    "    total = 0\n",
    "    for number in numbers:\n",
    "        total += number\n",
    "    return total\n",
    "\n",
    "# Calculate the sum of a list of numbers\n",
    "print(sum_list([1, 2, 3, 4, 5]))  # 15\n",
    "print(sum_list([10, 20, 30]))     # 60"
   ]
  },
  {
   "cell_type": "code",
   "execution_count": null,
   "id": "89cb0b7f",
   "metadata": {},
   "outputs": [],
   "source": []
  }
 ],
 "metadata": {
  "kernelspec": {
   "display_name": "Python 3 (ipykernel)",
   "language": "python",
   "name": "python3"
  },
  "language_info": {
   "codemirror_mode": {
    "name": "ipython",
    "version": 3
   },
   "file_extension": ".py",
   "mimetype": "text/x-python",
   "name": "python",
   "nbconvert_exporter": "python",
   "pygments_lexer": "ipython3",
   "version": "3.10.13"
  }
 },
 "nbformat": 4,
 "nbformat_minor": 5
}
